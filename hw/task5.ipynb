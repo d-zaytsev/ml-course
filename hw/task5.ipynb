{
 "cells": [
  {
   "cell_type": "markdown",
   "metadata": {},
   "source": [
    "# Задание 5. Обучение без учителя\n",
    "\n",
    "- [x] Найти данные с количеством признаков хотя бы 50, на которых можно решить задачу кластеризации.\n",
    "- [x] Выполнить разведочный анализ (**EDA**). При необходимости выполнить полезные преобразования данных.\n",
    "- [ ] Самостоятельно реализуйте один из алгоритмов кластеризации, например **K-means**.\n",
    "- [ ] Обучите модели кластеризации, используя свою реализацию, а также хотя бы две реализации из **sklearn** (**KMeans**, **Affinity Propogation**, **DBSCAN** и тд).\n",
    "- [x] При обучении использовать **подбор гиперпараметров**.\n",
    "- [ ] Сравнить качество моделей: замерить скорость обучения, вычислить различные метрики качества.\n",
    "- [ ] * (**+3 балла**) Также снизить размерность данных с помощью метода главных компонент **PCA** и и понять качество дальнейшей кластеризации всеми использованными реализациями при различном количестве главных компонент.\n",
    "- [ ] * (**+2 балла**) Визуализировать данные снижением размерности до 2 или 3 с помощью **PCA** и **t-SNE**. В случае проблем с производительностью **t-SNE**, можно сначала до какой то степени снизить размерность с помощью **PCA**, а затем запустить **t-SNE**."
   ]
  },
  {
   "cell_type": "markdown",
   "metadata": {},
   "source": [
    "## Описание датасета\n",
    "[Big Five Personality Dataset](https://www.kaggle.com/datasets/tunguz/big-five-personality-test/data) — содержит 1 015 342 ответа на анкеты и 110 признаков, учитывающих как сам ответ, так и сторонние показатели.\n",
    "\n",
    "Для каждого вопроса была создана шкала ответов от 1 до 5, где 1 = не согласен, 3 = нейтрально, 5 = согласен. Примеры вопросов: \"Я душа компании\", \"Я часто сочувствую другим людям\", \"Я стараюсь по возможности уклоняться от своих обязанностей\". Некоторые вопросы противоречат другим, чтобы была возможность выявлять нечестные ответы.\n",
    "\n",
    "В датасет также занесено время, потраченное на каждый вопрос, записанное в миллисекундах, страна проживания испытуемого и некоторое другие данные."
   ]
  },
  {
   "cell_type": "code",
   "execution_count": null,
   "metadata": {},
   "outputs": [],
   "source": [
    "import kagglehub\n",
    "import pandas as pd\n",
    "from pandas import DataFrame\n",
    "import os\n",
    "import numpy as np\n",
    "import matplotlib as mpl\n",
    "import matplotlib.pyplot as plt\n",
    "from sklearn.preprocessing import MinMaxScaler\n",
    "from sklearn.cluster import KMeans\n",
    "from yellowbrick.cluster import KElbowVisualizer, SilhouetteVisualizer\n",
    "from scipy.spatial import distance\n",
    "from sklearn.metrics import adjusted_rand_score, silhouette_score"
   ]
  },
  {
   "cell_type": "markdown",
   "metadata": {},
   "source": [
    "## EDA"
   ]
  },
  {
   "cell_type": "code",
   "execution_count": null,
   "metadata": {},
   "outputs": [
    {
     "data": {
      "text/html": [
       "<div>\n",
       "<style scoped>\n",
       "    .dataframe tbody tr th:only-of-type {\n",
       "        vertical-align: middle;\n",
       "    }\n",
       "\n",
       "    .dataframe tbody tr th {\n",
       "        vertical-align: top;\n",
       "    }\n",
       "\n",
       "    .dataframe thead th {\n",
       "        text-align: right;\n",
       "    }\n",
       "</style>\n",
       "<table border=\"1\" class=\"dataframe\">\n",
       "  <thead>\n",
       "    <tr style=\"text-align: right;\">\n",
       "      <th></th>\n",
       "      <th>EXT1</th>\n",
       "      <th>EXT2</th>\n",
       "      <th>EXT3</th>\n",
       "      <th>EXT4</th>\n",
       "      <th>EXT5</th>\n",
       "      <th>EXT6</th>\n",
       "      <th>EXT7</th>\n",
       "      <th>EXT8</th>\n",
       "      <th>EXT9</th>\n",
       "      <th>EXT10</th>\n",
       "      <th>...</th>\n",
       "      <th>dateload</th>\n",
       "      <th>screenw</th>\n",
       "      <th>screenh</th>\n",
       "      <th>introelapse</th>\n",
       "      <th>testelapse</th>\n",
       "      <th>endelapse</th>\n",
       "      <th>IPC</th>\n",
       "      <th>country</th>\n",
       "      <th>lat_appx_lots_of_err</th>\n",
       "      <th>long_appx_lots_of_err</th>\n",
       "    </tr>\n",
       "  </thead>\n",
       "  <tbody>\n",
       "    <tr>\n",
       "      <th>1015339</th>\n",
       "      <td>2.0</td>\n",
       "      <td>4.0</td>\n",
       "      <td>3.0</td>\n",
       "      <td>4.0</td>\n",
       "      <td>2.0</td>\n",
       "      <td>2.0</td>\n",
       "      <td>1.0</td>\n",
       "      <td>4.0</td>\n",
       "      <td>2.0</td>\n",
       "      <td>4.0</td>\n",
       "      <td>...</td>\n",
       "      <td>2018-11-08 12:08:34</td>\n",
       "      <td>1920.0</td>\n",
       "      <td>1080.0</td>\n",
       "      <td>6.0</td>\n",
       "      <td>212.0</td>\n",
       "      <td>8</td>\n",
       "      <td>1</td>\n",
       "      <td>US</td>\n",
       "      <td>34.1067</td>\n",
       "      <td>-117.8067</td>\n",
       "    </tr>\n",
       "    <tr>\n",
       "      <th>1015340</th>\n",
       "      <td>4.0</td>\n",
       "      <td>2.0</td>\n",
       "      <td>4.0</td>\n",
       "      <td>2.0</td>\n",
       "      <td>4.0</td>\n",
       "      <td>1.0</td>\n",
       "      <td>4.0</td>\n",
       "      <td>2.0</td>\n",
       "      <td>4.0</td>\n",
       "      <td>4.0</td>\n",
       "      <td>...</td>\n",
       "      <td>2018-11-08 12:08:45</td>\n",
       "      <td>1920.0</td>\n",
       "      <td>1080.0</td>\n",
       "      <td>3.0</td>\n",
       "      <td>176.0</td>\n",
       "      <td>9</td>\n",
       "      <td>1</td>\n",
       "      <td>US</td>\n",
       "      <td>38.0</td>\n",
       "      <td>-97.0</td>\n",
       "    </tr>\n",
       "  </tbody>\n",
       "</table>\n",
       "<p>2 rows × 110 columns</p>\n",
       "</div>"
      ],
      "text/plain": [
       "         EXT1  EXT2  EXT3  EXT4  EXT5  EXT6  EXT7  EXT8  EXT9  EXT10  ...  \\\n",
       "1015339   2.0   4.0   3.0   4.0   2.0   2.0   1.0   4.0   2.0    4.0  ...   \n",
       "1015340   4.0   2.0   4.0   2.0   4.0   1.0   4.0   2.0   4.0    4.0  ...   \n",
       "\n",
       "                    dateload  screenw  screenh  introelapse  testelapse  \\\n",
       "1015339  2018-11-08 12:08:34   1920.0   1080.0          6.0       212.0   \n",
       "1015340  2018-11-08 12:08:45   1920.0   1080.0          3.0       176.0   \n",
       "\n",
       "         endelapse  IPC  country  lat_appx_lots_of_err  long_appx_lots_of_err  \n",
       "1015339          8    1       US               34.1067              -117.8067  \n",
       "1015340          9    1       US                  38.0                  -97.0  \n",
       "\n",
       "[2 rows x 110 columns]"
      ]
     },
     "execution_count": 73,
     "metadata": {},
     "output_type": "execute_result"
    }
   ],
   "source": [
    "folder = kagglehub.dataset_download(\"tunguz/big-five-personality-test\")\n",
    "dataset_path = os.path.join(folder, \"IPIP-FFM-data-8Nov2018\", \"data-final.csv\")\n",
    "\n",
    "df = pd.read_csv(dataset_path, sep=\"\\t\")\n",
    "\n",
    "df.tail(2)"
   ]
  },
  {
   "cell_type": "code",
   "execution_count": 74,
   "metadata": {},
   "outputs": [
    {
     "data": {
      "text/plain": [
       "EXT1                     float64\n",
       "EXT2                     float64\n",
       "EXT3                     float64\n",
       "EXT4                     float64\n",
       "EXT5                     float64\n",
       "                          ...   \n",
       "endelapse                  int64\n",
       "IPC                        int64\n",
       "country                   object\n",
       "lat_appx_lots_of_err      object\n",
       "long_appx_lots_of_err     object\n",
       "Length: 110, dtype: object"
      ]
     },
     "execution_count": 74,
     "metadata": {},
     "output_type": "execute_result"
    }
   ],
   "source": [
    "df.dtypes"
   ]
  },
  {
   "cell_type": "code",
   "execution_count": null,
   "metadata": {},
   "outputs": [],
   "source": [
    "# dateload    The timestamp when the survey was started.\n",
    "# screenw     The width the of user's screen in pixels\n",
    "# screenh     The height of the user's screen in pixels.\n",
    "# introelapse The time in seconds spent on the landing / intro page.\n",
    "# testelapse  The time in seconds spent on the page with the survey questions.\n",
    "# endelapse   The time in seconds spent on the finalization page.\n",
    "# IPC         The number of records from the user's IP address in the dataset.\n",
    "# country     The country, determined by technical information (NOT ASKED AS A QUESTION).\n",
    "# lat_appx_lots_of_err    approximate latitude of user, determined by technical information.\n",
    "# long_appx_lots_of_err   approximate longitude of user.\n",
    "\n",
    "df = df[df[\"IPC\"] == 1]\n",
    "df = df.drop(\n",
    "    [\n",
    "        \"dateload\",\n",
    "        \"screenw\",\n",
    "        \"screenh\",\n",
    "        \"introelapse\",\n",
    "        \"IPC\",\n",
    "        \"country\",\n",
    "        \"lat_appx_lots_of_err\",\n",
    "        \"long_appx_lots_of_err\",\n",
    "        \"testelapse\",\n",
    "        \"endelapse\",\n",
    "    ],\n",
    "    axis=1,\n",
    ")"
   ]
  },
  {
   "cell_type": "code",
   "execution_count": null,
   "metadata": {},
   "outputs": [
    {
     "name": "stdout",
     "output_type": "stream",
     "text": [
      "Number of duplicate rows:  (2321, 100)\n",
      "EXT1       0\n",
      "EXT2       0\n",
      "EXT3       0\n",
      "EXT4       0\n",
      "EXT5       0\n",
      "          ..\n",
      "OPN6_E     0\n",
      "OPN7_E     0\n",
      "OPN8_E     0\n",
      "OPN9_E     0\n",
      "OPN10_E    0\n",
      "Length: 100, dtype: int64\n"
     ]
    }
   ],
   "source": [
    "duplicate_rows_df = df[df.duplicated()]\n",
    "\n",
    "print(\"Number of duplicate rows: \", duplicate_rows_df.shape)\n",
    "\n",
    "df = df.drop_duplicates()\n",
    "df = df.dropna()\n",
    "\n",
    "print(df.isnull().sum())"
   ]
  },
  {
   "cell_type": "code",
   "execution_count": 77,
   "metadata": {},
   "outputs": [
    {
     "data": {
      "text/plain": [
       "(694523, 100)"
      ]
     },
     "execution_count": 77,
     "metadata": {},
     "output_type": "execute_result"
    }
   ],
   "source": [
    "df.shape"
   ]
  },
  {
   "cell_type": "markdown",
   "metadata": {},
   "source": [
    "Удалил признаки, которые не связаны напрямую с тестом и отфильтровал результаты, оставив только те, где человек проходил тест ровно один раз. Число ответов сократилось почти на 32%."
   ]
  },
  {
   "cell_type": "code",
   "execution_count": 78,
   "metadata": {},
   "outputs": [
    {
     "data": {
      "text/html": [
       "<div>\n",
       "<style scoped>\n",
       "    .dataframe tbody tr th:only-of-type {\n",
       "        vertical-align: middle;\n",
       "    }\n",
       "\n",
       "    .dataframe tbody tr th {\n",
       "        vertical-align: top;\n",
       "    }\n",
       "\n",
       "    .dataframe thead th {\n",
       "        text-align: right;\n",
       "    }\n",
       "</style>\n",
       "<table border=\"1\" class=\"dataframe\">\n",
       "  <thead>\n",
       "    <tr style=\"text-align: right;\">\n",
       "      <th></th>\n",
       "      <th>EXT1</th>\n",
       "      <th>EXT2</th>\n",
       "      <th>EXT3</th>\n",
       "      <th>EXT4</th>\n",
       "      <th>EXT5</th>\n",
       "      <th>EXT6</th>\n",
       "      <th>EXT7</th>\n",
       "      <th>EXT8</th>\n",
       "      <th>EXT9</th>\n",
       "      <th>EXT10</th>\n",
       "      <th>...</th>\n",
       "      <th>OPN1_E</th>\n",
       "      <th>OPN2_E</th>\n",
       "      <th>OPN3_E</th>\n",
       "      <th>OPN4_E</th>\n",
       "      <th>OPN5_E</th>\n",
       "      <th>OPN6_E</th>\n",
       "      <th>OPN7_E</th>\n",
       "      <th>OPN8_E</th>\n",
       "      <th>OPN9_E</th>\n",
       "      <th>OPN10_E</th>\n",
       "    </tr>\n",
       "  </thead>\n",
       "  <tbody>\n",
       "    <tr>\n",
       "      <th>0</th>\n",
       "      <td>0.8</td>\n",
       "      <td>0.2</td>\n",
       "      <td>1.0</td>\n",
       "      <td>0.4</td>\n",
       "      <td>1.0</td>\n",
       "      <td>0.2</td>\n",
       "      <td>1.0</td>\n",
       "      <td>0.4</td>\n",
       "      <td>0.8</td>\n",
       "      <td>0.2</td>\n",
       "      <td>...</td>\n",
       "      <td>0.073982</td>\n",
       "      <td>0.000214</td>\n",
       "      <td>0.003363</td>\n",
       "      <td>0.000386</td>\n",
       "      <td>0.000476</td>\n",
       "      <td>0.028441</td>\n",
       "      <td>0.000144</td>\n",
       "      <td>0.000258</td>\n",
       "      <td>0.000869</td>\n",
       "      <td>0.038257</td>\n",
       "    </tr>\n",
       "    <tr>\n",
       "      <th>1</th>\n",
       "      <td>0.6</td>\n",
       "      <td>1.0</td>\n",
       "      <td>0.6</td>\n",
       "      <td>0.8</td>\n",
       "      <td>0.6</td>\n",
       "      <td>0.6</td>\n",
       "      <td>0.4</td>\n",
       "      <td>1.0</td>\n",
       "      <td>0.2</td>\n",
       "      <td>1.0</td>\n",
       "      <td>...</td>\n",
       "      <td>0.073981</td>\n",
       "      <td>0.000215</td>\n",
       "      <td>0.003352</td>\n",
       "      <td>0.000384</td>\n",
       "      <td>0.000492</td>\n",
       "      <td>0.028435</td>\n",
       "      <td>0.000140</td>\n",
       "      <td>0.000261</td>\n",
       "      <td>0.000870</td>\n",
       "      <td>0.038243</td>\n",
       "    </tr>\n",
       "    <tr>\n",
       "      <th>2</th>\n",
       "      <td>0.4</td>\n",
       "      <td>0.6</td>\n",
       "      <td>0.8</td>\n",
       "      <td>0.8</td>\n",
       "      <td>0.6</td>\n",
       "      <td>0.4</td>\n",
       "      <td>0.2</td>\n",
       "      <td>0.6</td>\n",
       "      <td>0.4</td>\n",
       "      <td>1.0</td>\n",
       "      <td>...</td>\n",
       "      <td>0.073980</td>\n",
       "      <td>0.000211</td>\n",
       "      <td>0.003352</td>\n",
       "      <td>0.000378</td>\n",
       "      <td>0.000476</td>\n",
       "      <td>0.028454</td>\n",
       "      <td>0.000138</td>\n",
       "      <td>0.000299</td>\n",
       "      <td>0.000857</td>\n",
       "      <td>0.038238</td>\n",
       "    </tr>\n",
       "  </tbody>\n",
       "</table>\n",
       "<p>3 rows × 100 columns</p>\n",
       "</div>"
      ],
      "text/plain": [
       "   EXT1  EXT2  EXT3  EXT4  EXT5  EXT6  EXT7  EXT8  EXT9  EXT10  ...    OPN1_E  \\\n",
       "0   0.8   0.2   1.0   0.4   1.0   0.2   1.0   0.4   0.8    0.2  ...  0.073982   \n",
       "1   0.6   1.0   0.6   0.8   0.6   0.6   0.4   1.0   0.2    1.0  ...  0.073981   \n",
       "2   0.4   0.6   0.8   0.8   0.6   0.4   0.2   0.6   0.4    1.0  ...  0.073980   \n",
       "\n",
       "     OPN2_E    OPN3_E    OPN4_E    OPN5_E    OPN6_E    OPN7_E    OPN8_E  \\\n",
       "0  0.000214  0.003363  0.000386  0.000476  0.028441  0.000144  0.000258   \n",
       "1  0.000215  0.003352  0.000384  0.000492  0.028435  0.000140  0.000261   \n",
       "2  0.000211  0.003352  0.000378  0.000476  0.028454  0.000138  0.000299   \n",
       "\n",
       "     OPN9_E   OPN10_E  \n",
       "0  0.000869  0.038257  \n",
       "1  0.000870  0.038243  \n",
       "2  0.000857  0.038238  \n",
       "\n",
       "[3 rows x 100 columns]"
      ]
     },
     "execution_count": 78,
     "metadata": {},
     "output_type": "execute_result"
    }
   ],
   "source": [
    "scaler = MinMaxScaler()\n",
    "\n",
    "df[df.columns] = scaler.fit_transform(df)\n",
    "\n",
    "df.head(3)"
   ]
  },
  {
   "cell_type": "markdown",
   "metadata": {},
   "source": [
    "## Поиск оптимального числа кластеров"
   ]
  },
  {
   "cell_type": "markdown",
   "metadata": {},
   "source": [
    "### Elbow Method"
   ]
  },
  {
   "cell_type": "code",
   "execution_count": null,
   "metadata": {},
   "outputs": [],
   "source": [
    "distortions = []\n",
    "inertias = []\n",
    "\n",
    "cut_df = df[:50000]\n",
    "\n",
    "for k in range(1, 15):\n",
    "    kmeans = KMeans(n_clusters=k, random_state=42).fit(cut_df)\n",
    "\n",
    "    distortions.append(\n",
    "        sum(\n",
    "            np.min(distance.cdist(cut_df, kmeans.cluster_centers_, \"euclidean\"), axis=1)\n",
    "            ** 2\n",
    "        )\n",
    "        / cut_df.shape[0]\n",
    "    )\n",
    "    inertias.append(kmeans.inertia_)"
   ]
  },
  {
   "cell_type": "code",
   "execution_count": null,
   "metadata": {},
   "outputs": [
    {
     "data": {
      "image/png": "[encoded data removed]",
      "text/plain": [
       "<Figure size 800x550 with 1 Axes>"
      ]
     },
     "metadata": {},
     "output_type": "display_data"
    }
   ],
   "source": [
    "plt.plot(range(1, 15), distortions, \"bx-\")\n",
    "plt.xlabel(\"Number of Clusters (k)\")\n",
    "plt.ylabel(\"Distortion\")\n",
    "plt.title(\"The Elbow Method [Distortion]\")\n",
    "plt.grid()\n",
    "plt.show()"
   ]
  },
  {
   "cell_type": "code",
   "execution_count": null,
   "metadata": {},
   "outputs": [
    {
     "data": {
      "image/png": "[encoded data removed]",
      "text/plain": [
       "<Figure size 800x550 with 1 Axes>"
      ]
     },
     "metadata": {},
     "output_type": "display_data"
    }
   ],
   "source": [
    "plt.plot(range(1, 15), inertias, \"bx-\")\n",
    "plt.xlabel(\"Number of Clusters (k)\")\n",
    "plt.ylabel(\"Inertia\")\n",
    "plt.title(\"The Elbow Method [Inertia]\")\n",
    "plt.grid()\n",
    "plt.show()"
   ]
  },
  {
   "cell_type": "markdown",
   "metadata": {},
   "source": [
    "Из графиков следует, что оптимальным числом кластеров можно считать k = 3, 4, 5. "
   ]
  },
  {
   "cell_type": "markdown",
   "metadata": {},
   "source": [
    "## Реализация K-Means"
   ]
  },
  {
   "cell_type": "code",
   "execution_count": null,
   "metadata": {},
   "outputs": [],
   "source": [
    "def dist(x, y):\n",
    "    return np.linalg.norm(x - y)\n",
    "\n",
    "\n",
    "def find_centroid(cluster):\n",
    "    if len(cluster) == 0:\n",
    "        return None\n",
    "\n",
    "    return np.mean(cluster, axis=0)\n",
    "\n",
    "\n",
    "def my_kmeans(k: int, df: pd.DataFrame, max_iter: int = 100, tol: float = 0.0001):\n",
    "    centroids = df.sample(n=k).to_numpy()\n",
    "\n",
    "    for _ in range(max_iter):\n",
    "        clusters = {i: [] for i in range(k)}\n",
    "\n",
    "        for _, row in df.iterrows():\n",
    "            point = row.to_numpy()\n",
    "\n",
    "            distances = [dist(point, centroid) for centroid in centroids]\n",
    "            cluster_id = np.argmin(distances)\n",
    "            clusters[cluster_id].append(point)\n",
    "\n",
    "        new_centroids = []\n",
    "\n",
    "        for i in range(k):\n",
    "            if clusters[i]:\n",
    "                new_centroids.append(find_centroid(clusters[i]))\n",
    "            else:\n",
    "                new_centroids.append(centroids[i])\n",
    "\n",
    "        new_centroids = np.array(new_centroids)\n",
    "\n",
    "        if np.allclose(centroids, new_centroids, atol=tol):\n",
    "            return clusters, new_centroids\n",
    "        else:\n",
    "            centroids = new_centroids"
   ]
  },
  {
   "cell_type": "markdown",
   "metadata": {},
   "source": [
    "Теперь сравненим реализацию из sklearn с написанной выше. "
   ]
  },
  {
   "cell_type": "code",
   "execution_count": 101,
   "metadata": {},
   "outputs": [
    {
     "name": "stdout",
     "output_type": "stream",
     "text": [
      "2.1740294620550262 2.187553809255689\n",
      "0.05769549308646639 0.0579853201463469\n",
      "1087.0147310275127 1093.7769046278445\n"
     ]
    }
   ],
   "source": [
    "k = 5\n",
    "test_df = df[:500]\n",
    "\n",
    "kmeans = KMeans(n_clusters=k, random_state=42, max_iter=100, tol=0.0001).fit(test_df)\n",
    "centroids_sk = kmeans.cluster_centers_\n",
    "_, centroids_my = my_kmeans(k, test_df)\n",
    "\n",
    "distortion_sk = (\n",
    "    sum(np.min(distance.cdist(test_df, centroids_sk, \"euclidean\"), axis=1) ** 2)\n",
    "    / test_df.shape[0]\n",
    ")\n",
    "distortion_my = (\n",
    "    sum(np.min(distance.cdist(test_df, centroids_my, \"euclidean\"), axis=1) ** 2)\n",
    "    / test_df.shape[0]\n",
    ")\n",
    "\n",
    "labels_sk = kmeans.labels_\n",
    "labels_my = np.empty(len(test_df), dtype=int)\n",
    "\n",
    "for i, point in enumerate(test_df.to_numpy()):\n",
    "    distances = [np.linalg.norm(point - centroid) for centroid in centroids_my]\n",
    "    labels_my[i] = np.argmin(distances)\n",
    "\n",
    "inertia_my = np.sum(\n",
    "    [\n",
    "        np.linalg.norm(point - centroids_my[labels_my[i]]) ** 2\n",
    "        for i, point in enumerate(test_df.to_numpy())\n",
    "    ]\n",
    ")\n",
    "inertia_sk = kmeans.inertia_\n",
    "\n",
    "silhouette_sk = silhouette_score(test_df, labels_sk)\n",
    "silhouette_my = silhouette_score(test_df, labels_my)\n",
    "\n",
    "print(distortion_sk, distortion_my)\n",
    "print(silhouette_sk, silhouette_my)\n",
    "print(inertia_sk, inertia_my)"
   ]
  },
  {
   "cell_type": "code",
   "execution_count": null,
   "metadata": {},
   "outputs": [
    {
     "data": {
      "image/png": "[encoded data removed]",
      "text/plain": [
       "<Figure size 800x600 with 1 Axes>"
      ]
     },
     "metadata": {},
     "output_type": "display_data"
    }
   ],
   "source": [
    "metrics = [\"Distortion\", \"Silhouette\", \"Inertia/1000\"]\n",
    "\n",
    "sk_values = [distortion_sk, silhouette_sk, inertia_sk / 1000]\n",
    "my_values = [distortion_my, silhouette_my, inertia_my / 1000]\n",
    "\n",
    "x = np.arange(len(metrics))\n",
    "width = 0.35\n",
    "\n",
    "fig, ax = plt.subplots(figsize=(8, 6))\n",
    "rects1 = ax.bar(x - width / 2, sk_values, width, label=\"Sklearn\")\n",
    "rects2 = ax.bar(x + width / 2, my_values, width, label=\"My KMeans\")\n",
    "\n",
    "ax.set_ylabel(\"Значения метрик\")\n",
    "ax.set_xticks(x)\n",
    "ax.set_xticklabels(metrics)\n",
    "ax.legend()\n",
    "\n",
    "\n",
    "def autolabel(rects):\n",
    "    for rect in rects:\n",
    "        height = rect.get_height()\n",
    "        ax.annotate(\n",
    "            f\"{height:.2f}\",\n",
    "            xy=(rect.get_x() + rect.get_width() / 2, height),\n",
    "            xytext=(0, 3),\n",
    "            textcoords=\"offset points\",\n",
    "            ha=\"center\",\n",
    "            va=\"bottom\",\n",
    "        )\n",
    "\n",
    "\n",
    "autolabel(rects1)\n",
    "autolabel(rects2)\n",
    "\n",
    "plt.show()\n"
   ]
  },
  {
   "cell_type": "markdown",
   "metadata": {},
   "source": [
    "По результатам сравнения видно, что при однинаковых начальных параметрах, реализация из sklearn справляется с поставленной задачей примерно так же хорошо, как наша собственная реализация. Теперь оценим время выполнения."
   ]
  }
 ],
 "metadata": {
  "kernelspec": {
   "display_name": ".venv",
   "language": "python",
   "name": "python3"
  },
  "language_info": {
   "codemirror_mode": {
    "name": "ipython",
    "version": 3
   },
   "file_extension": ".py",
   "mimetype": "text/x-python",
   "name": "python",
   "nbconvert_exporter": "python",
   "pygments_lexer": "ipython3",
   "version": "3.12.8"
  }
 },
 "nbformat": 4,
 "nbformat_minor": 2
}
