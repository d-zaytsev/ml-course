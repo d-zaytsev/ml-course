{
 "cells": [
  {
   "cell_type": "markdown",
   "metadata": {},
   "source": [
    "# Задача 7. Нейронные сети\n",
    "\n",
    "## Задача\n",
    "\n",
    "- [x] Найти данные в виде изображений для задачи классификации.\n",
    "- [x] Реализовать классы, необходимые для построения сети со следующими слоями\n",
    "\t- FullyConnectedLayer\n",
    "\t- ReluLayer\n",
    "\t- FullyConnectedLayer\n",
    "- [x] Использовать CrossEntropyLoss и L2-регуляризацию.\n",
    "- [x] Обучить модель на тренировочных данных, подбирать параметры (особенно learning rate) на валидационной и оценить качество на тестовой. Анализировать графики train/val loss, проверять на каждом шаге корректность вычисления градиентов с помощью разностной оценки.\n",
    "- [ ] * (**+2 балла**) Добавить Batch normalization.\n",
    "- [ ] * (**+2 балла**) В качестве оптимизатор использовать один из: Momentum, RMSprop.\n",
    "- [ ] * (**+1 балл**) Также реализовать оптимизатор Adam."
   ]
  },
  {
   "cell_type": "markdown",
   "metadata": {},
   "source": [
    "## Датасет\n",
    "\n",
    "[Butterfly Image Classification](https://www.kaggle.com/datasets/phucthaiv02/butterfly-image-classification) — содержит более 10 000 изображений 75 различных видов бабочек.\n",
    "\n",
    "Каждое изображение имеет размер 224x224 пикселя. Класс каждого изображения хранится в файле Training_set.csv."
   ]
  },
  {
   "cell_type": "code",
   "execution_count": 1,
   "metadata": {},
   "outputs": [
    {
     "name": "stderr",
     "output_type": "stream",
     "text": [
      "2025-03-28 13:57:35.930132: I tensorflow/core/util/port.cc:153] oneDNN custom operations are on. You may see slightly different numerical results due to floating-point round-off errors from different computation orders. To turn them off, set the environment variable `TF_ENABLE_ONEDNN_OPTS=0`.\n",
      "2025-03-28 13:57:35.931817: I external/local_xla/xla/tsl/cuda/cudart_stub.cc:32] Could not find cuda drivers on your machine, GPU will not be used.\n",
      "2025-03-28 13:57:35.939867: I external/local_xla/xla/tsl/cuda/cudart_stub.cc:32] Could not find cuda drivers on your machine, GPU will not be used.\n",
      "2025-03-28 13:57:35.956673: E external/local_xla/xla/stream_executor/cuda/cuda_fft.cc:467] Unable to register cuFFT factory: Attempting to register factory for plugin cuFFT when one has already been registered\n",
      "WARNING: All log messages before absl::InitializeLog() is called are written to STDERR\n",
      "E0000 00:00:1743159455.980010    5316 cuda_dnn.cc:8579] Unable to register cuDNN factory: Attempting to register factory for plugin cuDNN when one has already been registered\n",
      "E0000 00:00:1743159455.985797    5316 cuda_blas.cc:1407] Unable to register cuBLAS factory: Attempting to register factory for plugin cuBLAS when one has already been registered\n",
      "W0000 00:00:1743159456.012167    5316 computation_placer.cc:177] computation placer already registered. Please check linkage and avoid linking the same target more than once.\n",
      "W0000 00:00:1743159456.012199    5316 computation_placer.cc:177] computation placer already registered. Please check linkage and avoid linking the same target more than once.\n",
      "W0000 00:00:1743159456.012201    5316 computation_placer.cc:177] computation placer already registered. Please check linkage and avoid linking the same target more than once.\n",
      "W0000 00:00:1743159456.012202    5316 computation_placer.cc:177] computation placer already registered. Please check linkage and avoid linking the same target more than once.\n",
      "2025-03-28 13:57:36.018264: I tensorflow/core/platform/cpu_feature_guard.cc:210] This TensorFlow binary is optimized to use available CPU instructions in performance-critical operations.\n",
      "To enable the following instructions: AVX2 AVX512F AVX512_VNNI FMA, in other operations, rebuild TensorFlow with the appropriate compiler flags.\n"
     ]
    }
   ],
   "source": [
    "import kagglehub\n",
    "import pandas as pd\n",
    "import os\n",
    "import numpy as np\n",
    "import matplotlib.pyplot as plt\n",
    "import tensorflow as tf\n",
    "from utils import MyClassifier, MyBatchnormClassifier\n",
    "from sklearn.model_selection import train_test_split\n",
    "from sklearn.metrics import accuracy_score\n",
    "from IPython.core.magic import register_cell_magic\n",
    "\n",
    "\n",
    "@register_cell_magic\n",
    "def skip(line, cell):\n",
    "    return"
   ]
  },
  {
   "cell_type": "code",
   "execution_count": 2,
   "metadata": {},
   "outputs": [
    {
     "data": {
      "text/html": [
       "<div>\n",
       "<style scoped>\n",
       "    .dataframe tbody tr th:only-of-type {\n",
       "        vertical-align: middle;\n",
       "    }\n",
       "\n",
       "    .dataframe tbody tr th {\n",
       "        vertical-align: top;\n",
       "    }\n",
       "\n",
       "    .dataframe thead th {\n",
       "        text-align: right;\n",
       "    }\n",
       "</style>\n",
       "<table border=\"1\" class=\"dataframe\">\n",
       "  <thead>\n",
       "    <tr style=\"text-align: right;\">\n",
       "      <th></th>\n",
       "      <th>filename</th>\n",
       "      <th>label</th>\n",
       "    </tr>\n",
       "  </thead>\n",
       "  <tbody>\n",
       "    <tr>\n",
       "      <th>0</th>\n",
       "      <td>Image_1.jpg</td>\n",
       "      <td>SOUTHERN DOGFACE</td>\n",
       "    </tr>\n",
       "    <tr>\n",
       "      <th>1</th>\n",
       "      <td>Image_2.jpg</td>\n",
       "      <td>ADONIS</td>\n",
       "    </tr>\n",
       "    <tr>\n",
       "      <th>2</th>\n",
       "      <td>Image_3.jpg</td>\n",
       "      <td>BROWN SIPROETA</td>\n",
       "    </tr>\n",
       "    <tr>\n",
       "      <th>3</th>\n",
       "      <td>Image_4.jpg</td>\n",
       "      <td>MONARCH</td>\n",
       "    </tr>\n",
       "    <tr>\n",
       "      <th>4</th>\n",
       "      <td>Image_5.jpg</td>\n",
       "      <td>GREEN CELLED CATTLEHEART</td>\n",
       "    </tr>\n",
       "  </tbody>\n",
       "</table>\n",
       "</div>"
      ],
      "text/plain": [
       "      filename                     label\n",
       "0  Image_1.jpg          SOUTHERN DOGFACE\n",
       "1  Image_2.jpg                    ADONIS\n",
       "2  Image_3.jpg            BROWN SIPROETA\n",
       "3  Image_4.jpg                   MONARCH\n",
       "4  Image_5.jpg  GREEN CELLED CATTLEHEART"
      ]
     },
     "execution_count": 2,
     "metadata": {},
     "output_type": "execute_result"
    }
   ],
   "source": [
    "folder = kagglehub.dataset_download(\"phucthaiv02/butterfly-image-classification\")\n",
    "training_set_path = os.path.join(folder, \"Training_set.csv\")\n",
    "\n",
    "df = pd.read_csv(training_set_path)\n",
    "\n",
    "df.head(5)"
   ]
  },
  {
   "cell_type": "markdown",
   "metadata": {},
   "source": [
    "Для обучения нейронной сети выберем несколько самых распространенных в датасете картинок (так как 72 может быть слишком много)."
   ]
  },
  {
   "cell_type": "code",
   "execution_count": 3,
   "metadata": {},
   "outputs": [
    {
     "name": "stdout",
     "output_type": "stream",
     "text": [
      "Current size is: 2032\n"
     ]
    },
    {
     "data": {
      "text/html": [
       "<div>\n",
       "<style scoped>\n",
       "    .dataframe tbody tr th:only-of-type {\n",
       "        vertical-align: middle;\n",
       "    }\n",
       "\n",
       "    .dataframe tbody tr th {\n",
       "        vertical-align: top;\n",
       "    }\n",
       "\n",
       "    .dataframe thead th {\n",
       "        text-align: right;\n",
       "    }\n",
       "</style>\n",
       "<table border=\"1\" class=\"dataframe\">\n",
       "  <thead>\n",
       "    <tr style=\"text-align: right;\">\n",
       "      <th></th>\n",
       "      <th>filename</th>\n",
       "      <th>label</th>\n",
       "    </tr>\n",
       "  </thead>\n",
       "  <tbody>\n",
       "    <tr>\n",
       "      <th>2</th>\n",
       "      <td>Image_3.jpg</td>\n",
       "      <td>BROWN SIPROETA</td>\n",
       "    </tr>\n",
       "    <tr>\n",
       "      <th>8</th>\n",
       "      <td>Image_9.jpg</td>\n",
       "      <td>BROWN SIPROETA</td>\n",
       "    </tr>\n",
       "    <tr>\n",
       "      <th>29</th>\n",
       "      <td>Image_30.jpg</td>\n",
       "      <td>ATALA</td>\n",
       "    </tr>\n",
       "    <tr>\n",
       "      <th>44</th>\n",
       "      <td>Image_45.jpg</td>\n",
       "      <td>RED CRACKER</td>\n",
       "    </tr>\n",
       "    <tr>\n",
       "      <th>52</th>\n",
       "      <td>Image_53.jpg</td>\n",
       "      <td>SCARCE SWALLOW</td>\n",
       "    </tr>\n",
       "  </tbody>\n",
       "</table>\n",
       "</div>"
      ],
      "text/plain": [
       "        filename           label\n",
       "2    Image_3.jpg  BROWN SIPROETA\n",
       "8    Image_9.jpg  BROWN SIPROETA\n",
       "29  Image_30.jpg           ATALA\n",
       "44  Image_45.jpg     RED CRACKER\n",
       "52  Image_53.jpg  SCARCE SWALLOW"
      ]
     },
     "execution_count": 3,
     "metadata": {},
     "output_type": "execute_result"
    }
   ],
   "source": [
    "class_counts = df[\"label\"].value_counts().sort_values(ascending=False)\n",
    "\n",
    "most_popular_classes = list(class_counts[:10].index)\n",
    "\n",
    "df = df[df[\"label\"].isin(most_popular_classes)]\n",
    "\n",
    "print(\"Current size is:\", df.size)\n",
    "df.head(5)"
   ]
  },
  {
   "cell_type": "code",
   "execution_count": 4,
   "metadata": {},
   "outputs": [
    {
     "data": {
      "text/html": [
       "<div>\n",
       "<style scoped>\n",
       "    .dataframe tbody tr th:only-of-type {\n",
       "        vertical-align: middle;\n",
       "    }\n",
       "\n",
       "    .dataframe tbody tr th {\n",
       "        vertical-align: top;\n",
       "    }\n",
       "\n",
       "    .dataframe thead th {\n",
       "        text-align: right;\n",
       "    }\n",
       "</style>\n",
       "<table border=\"1\" class=\"dataframe\">\n",
       "  <thead>\n",
       "    <tr style=\"text-align: right;\">\n",
       "      <th></th>\n",
       "      <th>filename</th>\n",
       "      <th>label</th>\n",
       "      <th>image</th>\n",
       "    </tr>\n",
       "  </thead>\n",
       "  <tbody>\n",
       "    <tr>\n",
       "      <th>2</th>\n",
       "      <td>Image_3.jpg</td>\n",
       "      <td>BROWN SIPROETA</td>\n",
       "      <td>[0.9254902, 0.9098039, 0.8980392, 0.9254902, 0...</td>\n",
       "    </tr>\n",
       "    <tr>\n",
       "      <th>8</th>\n",
       "      <td>Image_9.jpg</td>\n",
       "      <td>BROWN SIPROETA</td>\n",
       "      <td>[0.25882354, 0.43137255, 0.12156863, 0.2509804...</td>\n",
       "    </tr>\n",
       "    <tr>\n",
       "      <th>29</th>\n",
       "      <td>Image_30.jpg</td>\n",
       "      <td>ATALA</td>\n",
       "      <td>[0.7254902, 0.5803922, 0.3647059, 0.8039216, 0...</td>\n",
       "    </tr>\n",
       "  </tbody>\n",
       "</table>\n",
       "</div>"
      ],
      "text/plain": [
       "        filename           label  \\\n",
       "2    Image_3.jpg  BROWN SIPROETA   \n",
       "8    Image_9.jpg  BROWN SIPROETA   \n",
       "29  Image_30.jpg           ATALA   \n",
       "\n",
       "                                                image  \n",
       "2   [0.9254902, 0.9098039, 0.8980392, 0.9254902, 0...  \n",
       "8   [0.25882354, 0.43137255, 0.12156863, 0.2509804...  \n",
       "29  [0.7254902, 0.5803922, 0.3647059, 0.8039216, 0...  "
      ]
     },
     "execution_count": 4,
     "metadata": {},
     "output_type": "execute_result"
    }
   ],
   "source": [
    "train_img_folder = os.path.join(folder, \"train\")\n",
    "\n",
    "\n",
    "def load_image(filename):\n",
    "    img_path = os.path.join(train_img_folder, filename)\n",
    "    img = tf.keras.preprocessing.image.load_img(img_path, target_size=(224, 224))\n",
    "    img = tf.keras.preprocessing.image.img_to_array(img) / 255.0\n",
    "    return img.ravel()\n",
    "\n",
    "\n",
    "df[\"image\"] = df[\"filename\"].apply(load_image)\n",
    "\n",
    "df.head(3)"
   ]
  },
  {
   "cell_type": "markdown",
   "metadata": {},
   "source": [
    "## Запуск алгоритма\n",
    "\n",
    "Для первого (пробного) запуска выберем случайные параметры, чтобы убедиться, что удаётся получить хотя бы немного корректный результат. "
   ]
  },
  {
   "cell_type": "code",
   "execution_count": 5,
   "metadata": {},
   "outputs": [
    {
     "name": "stdout",
     "output_type": "stream",
     "text": [
      "Create classifier with such params:    \n",
      "- Input neurons: 150528    \n",
      "- Classes: 10    \n",
      "- Hidden neurons: 512\n"
     ]
    }
   ],
   "source": [
    "input_num = 224 * 224 * 3\n",
    "classes_num = len(most_popular_classes)\n",
    "i = 512\n",
    "\n",
    "print(\n",
    "    f\"Create classifier with such params:\\\n",
    "    \\n- Input neurons: {input_num}\\\n",
    "    \\n- Classes: {classes_num}\\\n",
    "    \\n- Hidden neurons: {i}\"\n",
    ")\n",
    "\n",
    "classifier = MyClassifier(input_num, classes_num, i)"
   ]
  },
  {
   "cell_type": "markdown",
   "metadata": {},
   "source": [
    "Разделим датасет на тренировочный и тестовый, а также нормализуем его для обучения:"
   ]
  },
  {
   "cell_type": "code",
   "execution_count": 6,
   "metadata": {},
   "outputs": [],
   "source": [
    "X = np.stack(df[\"image\"].to_numpy())\n",
    "labels = df[\"label\"].to_numpy()\n",
    "\n",
    "label_mapping = {label: idx for idx, label in enumerate(np.unique(labels))}\n",
    "y = np.array([label_mapping[label] for label in labels])\n",
    "\n",
    "X_train, X_test, y_train, y_test = train_test_split(\n",
    "    X, y, test_size=0.2, random_state=42, stratify=y\n",
    ")"
   ]
  },
  {
   "cell_type": "markdown",
   "metadata": {},
   "source": [
    "Теперь запустим сам алгоритм:"
   ]
  },
  {
   "cell_type": "code",
   "execution_count": 7,
   "metadata": {},
   "outputs": [],
   "source": [
    "%%skip\n",
    "loss_values = classifier.fit(X_train, y_train, learning_rate=0.0001, epochs=10)\n",
    "\n",
    "plt.plot(loss_values)"
   ]
  },
  {
   "cell_type": "code",
   "execution_count": null,
   "metadata": {},
   "outputs": [],
   "source": [
    "%%skip\n",
    "y_pred = classifier.predict_max(X_test)\n",
    "accuracy = accuracy_score(y_test, y_pred)\n",
    "\n",
    "print(accuracy)"
   ]
  },
  {
   "cell_type": "markdown",
   "metadata": {},
   "source": [
    "Исходя из значения *accuracy*, можно сделать вывод, что модель обучилась и смогла выдать результат лучше, чем при простом угадывании (0.1). Теперь можно попробовать подобрать оптимальные параметры обучения и сравнить результат. "
   ]
  },
  {
   "cell_type": "markdown",
   "metadata": {},
   "source": [
    "## Подбор параметров\n",
    "\n",
    "Количество нейронов в скрытом слое:"
   ]
  },
  {
   "cell_type": "code",
   "execution_count": 9,
   "metadata": {},
   "outputs": [],
   "source": [
    "def param_fit(\n",
    "    hidden_neurons_num=512, batch_size=100, learning_rate=0.0001, reg=0.00001\n",
    "):\n",
    "    classifier = MyClassifier(input_num, classes_num, hidden_neurons_num)\n",
    "\n",
    "    loss_values = classifier.fit(\n",
    "        X_train, y_train, batch_size, learning_rate, reg=reg, epochs=30\n",
    "    )\n",
    "\n",
    "    y_pred = classifier.predict_max(X_test)\n",
    "    accuracy = accuracy_score(y_test, y_pred)\n",
    "\n",
    "    return accuracy, loss_values\n"
   ]
  },
  {
   "cell_type": "code",
   "execution_count": 10,
   "metadata": {},
   "outputs": [],
   "source": [
    "%%skip\n",
    "hidden_neurons_num_list = [512, 256, 128, 64]\n",
    "\n",
    "accuracies = []\n",
    "\n",
    "for i in hidden_neurons_num_list:\n",
    "    accuracy, loss_values = param_fit(hidden_neurons_num=i)\n",
    "    accuracies.append(accuracy)"
   ]
  },
  {
   "cell_type": "code",
   "execution_count": 11,
   "metadata": {},
   "outputs": [],
   "source": [
    "%%skip\n",
    "plt.figure(figsize=(10, 5))\n",
    "plt.subplot(1, 2, 1)\n",
    "plt.plot(hidden_neurons_num_list, accuracies, marker=\"o\", linestyle=\"-\")\n",
    "plt.xlabel(\"Number of Hidden Neurons\")\n",
    "plt.ylabel(\"Accuracy\")\n",
    "plt.title(\"Accuracy vs. Number of Hidden Neurons\")\n",
    "plt.grid(True)"
   ]
  },
  {
   "cell_type": "markdown",
   "metadata": {},
   "source": [
    "Будем считать оптимальным числом нейронов 512, так как большие значения проверить нет возможности.\n",
    "\n",
    "Теперь определимся с параметром *batch_size*:"
   ]
  },
  {
   "cell_type": "code",
   "execution_count": 12,
   "metadata": {},
   "outputs": [],
   "source": [
    "%%skip\n",
    "batch_size_list = [100, 200, 300, 400, 500, 1000]\n",
    "\n",
    "accuracies = []\n",
    "\n",
    "for i in batch_size_list:\n",
    "    accuracy, loss_values = param_fit(batch_size=i)\n",
    "    accuracies.append(accuracy)"
   ]
  },
  {
   "cell_type": "code",
   "execution_count": 13,
   "metadata": {},
   "outputs": [],
   "source": [
    "%%skip\n",
    "plt.figure(figsize=(10, 5))\n",
    "plt.subplot(1, 2, 1)\n",
    "plt.plot(batch_size_list, accuracies, marker=\"o\", linestyle=\"-\")\n",
    "plt.xlabel(\"Batch size\")\n",
    "plt.ylabel(\"Accuracy\")\n",
    "plt.title(\"Accuracy vs. Batch size\")\n",
    "plt.grid(True)"
   ]
  },
  {
   "cell_type": "markdown",
   "metadata": {},
   "source": [
    "Теперь подберём параметр *reg*:"
   ]
  },
  {
   "cell_type": "code",
   "execution_count": 14,
   "metadata": {},
   "outputs": [],
   "source": [
    "%%skip\n",
    "reg_list = [1.0, 0.5, 0.1, 0.15, 0.01, 0.001, 0.0001, 0.00001]\n",
    "\n",
    "accuracies = []\n",
    "\n",
    "for i in reg_list:\n",
    "    accuracy, loss_values = param_fit(reg=i)\n",
    "    accuracies.append(accuracy)"
   ]
  },
  {
   "cell_type": "code",
   "execution_count": 15,
   "metadata": {},
   "outputs": [],
   "source": [
    "%%skip\n",
    "plt.figure(figsize=(10, 5))\n",
    "plt.subplot(1, 2, 1)\n",
    "plt.plot(reg_list, accuracies, marker=\"o\", linestyle=\"-\")\n",
    "plt.xlabel(\"Reg\")\n",
    "plt.ylabel(\"Accuracy\")\n",
    "plt.title(\"Accuracy vs. Reg const\")\n",
    "plt.grid(True)"
   ]
  },
  {
   "cell_type": "markdown",
   "metadata": {},
   "source": [
    "И, наконец, подберём *learning rate*:"
   ]
  },
  {
   "cell_type": "code",
   "execution_count": 16,
   "metadata": {},
   "outputs": [],
   "source": [
    "%%skip\n",
    "learning_rate_list = [1.0, 0.5, 0.1, 0.15, 0.01, 0.001, 0.0001, 0.00001]\n",
    "\n",
    "accuracies = []\n",
    "\n",
    "for i in learning_rate_list:\n",
    "    accuracy, loss_values = param_fit(learning_rate=i)\n",
    "    accuracies.append(accuracy)"
   ]
  },
  {
   "cell_type": "code",
   "execution_count": 17,
   "metadata": {},
   "outputs": [],
   "source": [
    "%%skip\n",
    "plt.figure(figsize=(10, 5))\n",
    "plt.subplot(1, 2, 1)\n",
    "plt.plot(learning_rate_list, accuracies, marker=\"o\", linestyle=\"-\")\n",
    "plt.xlabel(\"Learning rate\")\n",
    "plt.ylabel(\"Accuracy\")\n",
    "plt.title(\"Accuracy vs. Learning rate\")\n",
    "plt.grid(True)"
   ]
  },
  {
   "cell_type": "markdown",
   "metadata": {},
   "source": [
    "## Batch normalization\n",
    "\n",
    "Применим *batch normalization* и сравним полученный результат с обычным классификатором, использовавшимся ранее. Для наибольшей эффективности, в качестве параметров классификаторов будем использовать полученные выше."
   ]
  },
  {
   "cell_type": "code",
   "execution_count": 23,
   "metadata": {},
   "outputs": [],
   "source": [
    "BEST_HIDDEN_NEURONS_NUM = 512\n",
    "BEST_BATCH_SIZE = 100\n",
    "BEST_LEARNING_RATE = 0.0001\n",
    "BEST_REG = 0.00001\n",
    "EPOCHS = 10\n",
    "\n",
    "batchnorm_classifier = MyBatchnormClassifier(\n",
    "    input_num, classes_num, BEST_HIDDEN_NEURONS_NUM\n",
    ")\n",
    "classifier = MyBatchnormClassifier(input_num, classes_num, BEST_HIDDEN_NEURONS_NUM)"
   ]
  },
  {
   "cell_type": "code",
   "execution_count": 24,
   "metadata": {},
   "outputs": [],
   "source": [
    "batchnorm_classifier.fit(\n",
    "    X_train,\n",
    "    y_train,\n",
    "    batch_size=BEST_BATCH_SIZE,\n",
    "    learning_rate=BEST_LEARNING_RATE,\n",
    "    reg=BEST_REG,\n",
    "    epochs=EPOCHS,\n",
    ")\n",
    "\n",
    "y_pred = batchnorm_classifier.predict_max(X_test)\n",
    "batchnorm_accuracy = accuracy_score(y_test, y_pred)"
   ]
  },
  {
   "cell_type": "code",
   "execution_count": 25,
   "metadata": {},
   "outputs": [],
   "source": [
    "classifier.fit(\n",
    "    X_train,\n",
    "    y_train,\n",
    "    batch_size=BEST_BATCH_SIZE,\n",
    "    learning_rate=BEST_LEARNING_RATE,\n",
    "    reg=BEST_REG,\n",
    "    epochs=EPOCHS,\n",
    ")\n",
    "\n",
    "y_pred = classifier.predict_max(X_test)\n",
    "accuracy = accuracy_score(y_test, y_pred)"
   ]
  },
  {
   "cell_type": "code",
   "execution_count": 30,
   "metadata": {},
   "outputs": [
    {
     "name": "stdout",
     "output_type": "stream",
     "text": [
      "Accuracy with batch normalization: 0.7402\n",
      "Simple classifier accuracy: 0.7059\n",
      "Difference: 4.86%\n"
     ]
    }
   ],
   "source": [
    "print(f\"Accuracy with batch normalization: {batchnorm_accuracy:.4f}\")\n",
    "print(f\"Simple classifier accuracy: {accuracy:.4f}\")\n",
    "\n",
    "\n",
    "difference = (\n",
    "    (max(batchnorm_accuracy, accuracy) - min(batchnorm_accuracy, accuracy))\n",
    "    / min(batchnorm_accuracy, accuracy)\n",
    ") * 100\n",
    "print(f\"Difference: {difference:.2f}%\")\n"
   ]
  },
  {
   "cell_type": "markdown",
   "metadata": {},
   "source": [
    "В результате действительно удалось повысить показатель *accuracy*!"
   ]
  }
 ],
 "metadata": {
  "kernelspec": {
   "display_name": ".venv",
   "language": "python",
   "name": "python3"
  },
  "language_info": {
   "codemirror_mode": {
    "name": "ipython",
    "version": 3
   },
   "file_extension": ".py",
   "mimetype": "text/x-python",
   "name": "python",
   "nbconvert_exporter": "python",
   "pygments_lexer": "ipython3",
   "version": "3.12.5"
  }
 },
 "nbformat": 4,
 "nbformat_minor": 2
}
