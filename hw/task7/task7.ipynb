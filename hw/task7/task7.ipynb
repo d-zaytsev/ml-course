{
 "cells": [
  {
   "cell_type": "markdown",
   "metadata": {},
   "source": [
    "# Задача 7. Нейронные сети\n",
    "\n",
    "## Задача\n",
    "\n",
    "- [x] Найти данные в виде изображений для задачи классификации.\n",
    "- [x] Реализовать классы, необходимые для построения сети со следующими слоями\n",
    "\t- FullyConnectedLayer\n",
    "\t- ReluLayer\n",
    "\t- FullyConnectedLayer\n",
    "- [x] Использовать CrossEntropyLoss и L2-регуляризацию.\n",
    "- [x] Обучить модель на тренировочных данных, подбирать параметры (особенно learning rate) на валидационной и оценить качество на тестовой. Анализировать графики train/val loss, проверять на каждом шаге корректность вычисления градиентов с помощью разностной оценки.\n",
    "- [x] * (**+2 балла**) Добавить Batch normalization.\n",
    "- [x] * (**+2 балла**) В качестве оптимизатор использовать один из: Momentum, RMSprop.\n",
    "- [x] * (**+1 балл**) Также реализовать оптимизатор Adam."
   ]
  },
  {
   "cell_type": "markdown",
   "metadata": {},
   "source": [
    "## Датасет\n",
    "\n",
    "[Butterfly Image Classification](https://www.kaggle.com/datasets/phucthaiv02/butterfly-image-classification) — содержит более 10 000 изображений 75 различных видов бабочек.\n",
    "\n",
    "Каждое изображение имеет размер 224x224 пикселя. Класс каждого изображения хранится в файле Training_set.csv."
   ]
  },
  {
   "cell_type": "code",
   "execution_count": 3,
   "metadata": {},
   "outputs": [
    {
     "name": "stderr",
     "output_type": "stream",
     "text": [
      "2025-03-30 13:42:47.197765: I external/local_xla/xla/tsl/cuda/cudart_stub.cc:32] Could not find cuda drivers on your machine, GPU will not be used.\n",
      "2025-03-30 13:42:47.299664: I external/local_xla/xla/tsl/cuda/cudart_stub.cc:32] Could not find cuda drivers on your machine, GPU will not be used.\n",
      "2025-03-30 13:42:47.385204: E external/local_xla/xla/stream_executor/cuda/cuda_fft.cc:467] Unable to register cuFFT factory: Attempting to register factory for plugin cuFFT when one has already been registered\n",
      "WARNING: All log messages before absl::InitializeLog() is called are written to STDERR\n",
      "E0000 00:00:1743331367.466697    5059 cuda_dnn.cc:8579] Unable to register cuDNN factory: Attempting to register factory for plugin cuDNN when one has already been registered\n",
      "E0000 00:00:1743331367.488426    5059 cuda_blas.cc:1407] Unable to register cuBLAS factory: Attempting to register factory for plugin cuBLAS when one has already been registered\n",
      "W0000 00:00:1743331367.662973    5059 computation_placer.cc:177] computation placer already registered. Please check linkage and avoid linking the same target more than once.\n",
      "W0000 00:00:1743331367.662996    5059 computation_placer.cc:177] computation placer already registered. Please check linkage and avoid linking the same target more than once.\n",
      "W0000 00:00:1743331367.662998    5059 computation_placer.cc:177] computation placer already registered. Please check linkage and avoid linking the same target more than once.\n",
      "W0000 00:00:1743331367.662999    5059 computation_placer.cc:177] computation placer already registered. Please check linkage and avoid linking the same target more than once.\n",
      "2025-03-30 13:42:47.682383: I tensorflow/core/platform/cpu_feature_guard.cc:210] This TensorFlow binary is optimized to use available CPU instructions in performance-critical operations.\n",
      "To enable the following instructions: AVX2 FMA, in other operations, rebuild TensorFlow with the appropriate compiler flags.\n"
     ]
    }
   ],
   "source": [
    "import kagglehub\n",
    "import pandas as pd\n",
    "import os\n",
    "import numpy as np\n",
    "import matplotlib.pyplot as plt\n",
    "import tensorflow as tf\n",
    "from utils import (\n",
    "    MyClassifier,\n",
    "    MyBatchnormClassifier,\n",
    "    MyBatchnormMomentumClassifier,\n",
    "    MyBatchnormAdamClassifier,\n",
    ")\n",
    "from sklearn.model_selection import train_test_split\n",
    "from sklearn.metrics import accuracy_score\n",
    "from IPython.core.magic import register_cell_magic\n",
    "\n",
    "\n",
    "@register_cell_magic\n",
    "def skip(line, cell):\n",
    "    return"
   ]
  },
  {
   "cell_type": "code",
   "execution_count": 4,
   "metadata": {},
   "outputs": [
    {
     "name": "stdout",
     "output_type": "stream",
     "text": [
      "Downloading from https://www.kaggle.com/api/v1/datasets/download/phucthaiv02/butterfly-image-classification?dataset_version_number=2...\n"
     ]
    },
    {
     "name": "stderr",
     "output_type": "stream",
     "text": [
      "100%|██████████| 226M/226M [00:41<00:00, 5.64MB/s] "
     ]
    },
    {
     "name": "stdout",
     "output_type": "stream",
     "text": [
      "Extracting files...\n"
     ]
    },
    {
     "name": "stderr",
     "output_type": "stream",
     "text": [
      "\n"
     ]
    },
    {
     "data": {
      "text/html": [
       "<div>\n",
       "<style scoped>\n",
       "    .dataframe tbody tr th:only-of-type {\n",
       "        vertical-align: middle;\n",
       "    }\n",
       "\n",
       "    .dataframe tbody tr th {\n",
       "        vertical-align: top;\n",
       "    }\n",
       "\n",
       "    .dataframe thead th {\n",
       "        text-align: right;\n",
       "    }\n",
       "</style>\n",
       "<table border=\"1\" class=\"dataframe\">\n",
       "  <thead>\n",
       "    <tr style=\"text-align: right;\">\n",
       "      <th></th>\n",
       "      <th>filename</th>\n",
       "      <th>label</th>\n",
       "    </tr>\n",
       "  </thead>\n",
       "  <tbody>\n",
       "    <tr>\n",
       "      <th>0</th>\n",
       "      <td>Image_1.jpg</td>\n",
       "      <td>SOUTHERN DOGFACE</td>\n",
       "    </tr>\n",
       "    <tr>\n",
       "      <th>1</th>\n",
       "      <td>Image_2.jpg</td>\n",
       "      <td>ADONIS</td>\n",
       "    </tr>\n",
       "    <tr>\n",
       "      <th>2</th>\n",
       "      <td>Image_3.jpg</td>\n",
       "      <td>BROWN SIPROETA</td>\n",
       "    </tr>\n",
       "    <tr>\n",
       "      <th>3</th>\n",
       "      <td>Image_4.jpg</td>\n",
       "      <td>MONARCH</td>\n",
       "    </tr>\n",
       "    <tr>\n",
       "      <th>4</th>\n",
       "      <td>Image_5.jpg</td>\n",
       "      <td>GREEN CELLED CATTLEHEART</td>\n",
       "    </tr>\n",
       "  </tbody>\n",
       "</table>\n",
       "</div>"
      ],
      "text/plain": [
       "      filename                     label\n",
       "0  Image_1.jpg          SOUTHERN DOGFACE\n",
       "1  Image_2.jpg                    ADONIS\n",
       "2  Image_3.jpg            BROWN SIPROETA\n",
       "3  Image_4.jpg                   MONARCH\n",
       "4  Image_5.jpg  GREEN CELLED CATTLEHEART"
      ]
     },
     "execution_count": 4,
     "metadata": {},
     "output_type": "execute_result"
    }
   ],
   "source": [
    "folder = kagglehub.dataset_download(\"phucthaiv02/butterfly-image-classification\")\n",
    "training_set_path = os.path.join(folder, \"Training_set.csv\")\n",
    "\n",
    "df = pd.read_csv(training_set_path)\n",
    "\n",
    "df.head(5)"
   ]
  },
  {
   "cell_type": "markdown",
   "metadata": {},
   "source": [
    "Для обучения нейронной сети выберем несколько самых распространенных в датасете картинок (так как 72 может быть слишком много)."
   ]
  },
  {
   "cell_type": "code",
   "execution_count": 5,
   "metadata": {},
   "outputs": [
    {
     "name": "stdout",
     "output_type": "stream",
     "text": [
      "Current size is: 2032\n"
     ]
    },
    {
     "data": {
      "text/html": [
       "<div>\n",
       "<style scoped>\n",
       "    .dataframe tbody tr th:only-of-type {\n",
       "        vertical-align: middle;\n",
       "    }\n",
       "\n",
       "    .dataframe tbody tr th {\n",
       "        vertical-align: top;\n",
       "    }\n",
       "\n",
       "    .dataframe thead th {\n",
       "        text-align: right;\n",
       "    }\n",
       "</style>\n",
       "<table border=\"1\" class=\"dataframe\">\n",
       "  <thead>\n",
       "    <tr style=\"text-align: right;\">\n",
       "      <th></th>\n",
       "      <th>filename</th>\n",
       "      <th>label</th>\n",
       "    </tr>\n",
       "  </thead>\n",
       "  <tbody>\n",
       "    <tr>\n",
       "      <th>2</th>\n",
       "      <td>Image_3.jpg</td>\n",
       "      <td>BROWN SIPROETA</td>\n",
       "    </tr>\n",
       "    <tr>\n",
       "      <th>8</th>\n",
       "      <td>Image_9.jpg</td>\n",
       "      <td>BROWN SIPROETA</td>\n",
       "    </tr>\n",
       "    <tr>\n",
       "      <th>29</th>\n",
       "      <td>Image_30.jpg</td>\n",
       "      <td>ATALA</td>\n",
       "    </tr>\n",
       "    <tr>\n",
       "      <th>44</th>\n",
       "      <td>Image_45.jpg</td>\n",
       "      <td>RED CRACKER</td>\n",
       "    </tr>\n",
       "    <tr>\n",
       "      <th>52</th>\n",
       "      <td>Image_53.jpg</td>\n",
       "      <td>SCARCE SWALLOW</td>\n",
       "    </tr>\n",
       "  </tbody>\n",
       "</table>\n",
       "</div>"
      ],
      "text/plain": [
       "        filename           label\n",
       "2    Image_3.jpg  BROWN SIPROETA\n",
       "8    Image_9.jpg  BROWN SIPROETA\n",
       "29  Image_30.jpg           ATALA\n",
       "44  Image_45.jpg     RED CRACKER\n",
       "52  Image_53.jpg  SCARCE SWALLOW"
      ]
     },
     "execution_count": 5,
     "metadata": {},
     "output_type": "execute_result"
    }
   ],
   "source": [
    "class_counts = df[\"label\"].value_counts().sort_values(ascending=False)\n",
    "\n",
    "most_popular_classes = list(class_counts[:10].index)\n",
    "\n",
    "df = df[df[\"label\"].isin(most_popular_classes)]\n",
    "\n",
    "print(\"Current size is:\", df.size)\n",
    "df.head(5)"
   ]
  },
  {
   "cell_type": "code",
   "execution_count": 6,
   "metadata": {},
   "outputs": [
    {
     "data": {
      "text/html": [
       "<div>\n",
       "<style scoped>\n",
       "    .dataframe tbody tr th:only-of-type {\n",
       "        vertical-align: middle;\n",
       "    }\n",
       "\n",
       "    .dataframe tbody tr th {\n",
       "        vertical-align: top;\n",
       "    }\n",
       "\n",
       "    .dataframe thead th {\n",
       "        text-align: right;\n",
       "    }\n",
       "</style>\n",
       "<table border=\"1\" class=\"dataframe\">\n",
       "  <thead>\n",
       "    <tr style=\"text-align: right;\">\n",
       "      <th></th>\n",
       "      <th>filename</th>\n",
       "      <th>label</th>\n",
       "      <th>image</th>\n",
       "    </tr>\n",
       "  </thead>\n",
       "  <tbody>\n",
       "    <tr>\n",
       "      <th>2</th>\n",
       "      <td>Image_3.jpg</td>\n",
       "      <td>BROWN SIPROETA</td>\n",
       "      <td>[0.9254902, 0.9098039, 0.8980392, 0.9254902, 0...</td>\n",
       "    </tr>\n",
       "    <tr>\n",
       "      <th>8</th>\n",
       "      <td>Image_9.jpg</td>\n",
       "      <td>BROWN SIPROETA</td>\n",
       "      <td>[0.25882354, 0.43137255, 0.12156863, 0.2509804...</td>\n",
       "    </tr>\n",
       "    <tr>\n",
       "      <th>29</th>\n",
       "      <td>Image_30.jpg</td>\n",
       "      <td>ATALA</td>\n",
       "      <td>[0.7254902, 0.5803922, 0.3647059, 0.8039216, 0...</td>\n",
       "    </tr>\n",
       "  </tbody>\n",
       "</table>\n",
       "</div>"
      ],
      "text/plain": [
       "        filename           label  \\\n",
       "2    Image_3.jpg  BROWN SIPROETA   \n",
       "8    Image_9.jpg  BROWN SIPROETA   \n",
       "29  Image_30.jpg           ATALA   \n",
       "\n",
       "                                                image  \n",
       "2   [0.9254902, 0.9098039, 0.8980392, 0.9254902, 0...  \n",
       "8   [0.25882354, 0.43137255, 0.12156863, 0.2509804...  \n",
       "29  [0.7254902, 0.5803922, 0.3647059, 0.8039216, 0...  "
      ]
     },
     "execution_count": 6,
     "metadata": {},
     "output_type": "execute_result"
    }
   ],
   "source": [
    "train_img_folder = os.path.join(folder, \"train\")\n",
    "\n",
    "\n",
    "def load_image(filename):\n",
    "    img_path = os.path.join(train_img_folder, filename)\n",
    "    img = tf.keras.preprocessing.image.load_img(img_path, target_size=(224, 224))\n",
    "    img = tf.keras.preprocessing.image.img_to_array(img) / 255.0\n",
    "    return img.ravel()\n",
    "\n",
    "\n",
    "df[\"image\"] = df[\"filename\"].apply(load_image)\n",
    "\n",
    "df.head(3)"
   ]
  },
  {
   "cell_type": "markdown",
   "metadata": {},
   "source": [
    "## Запуск алгоритма\n",
    "\n",
    "Для первого (пробного) запуска выберем случайные параметры, чтобы убедиться, что удаётся получить хотя бы немного корректный результат. "
   ]
  },
  {
   "cell_type": "code",
   "execution_count": 8,
   "metadata": {},
   "outputs": [
    {
     "name": "stdout",
     "output_type": "stream",
     "text": [
      "Create classifier with such params:    \n",
      "- Input neurons: 150528    \n",
      "- Classes: 10    \n",
      "- Hidden neurons: 512\n"
     ]
    }
   ],
   "source": [
    "class DefaultParams:\n",
    "    input_num = 224 * 224 * 3\n",
    "    classes_num = len(most_popular_classes)\n",
    "    hidden_neurons_num = 512\n",
    "    learning_rate = 0.0001\n",
    "    epochs = 10\n",
    "\n",
    "\n",
    "print(\n",
    "    f\"Create classifier with such params:\\\n",
    "    \\n- Input neurons: {DefaultParams.input_num}\\\n",
    "    \\n- Classes: {DefaultParams.classes_num}\\\n",
    "    \\n- Hidden neurons: {DefaultParams.hidden_neurons_num}\"\n",
    ")\n",
    "\n",
    "classifier = MyClassifier(\n",
    "    DefaultParams.input_num, DefaultParams.classes_num, DefaultParams.hidden_neurons_num\n",
    ")"
   ]
  },
  {
   "cell_type": "markdown",
   "metadata": {},
   "source": [
    "Разделим датасет на тренировочный и тестовый, а также нормализуем его для обучения:"
   ]
  },
  {
   "cell_type": "code",
   "execution_count": 9,
   "metadata": {},
   "outputs": [],
   "source": [
    "X = np.stack(df[\"image\"].to_numpy())\n",
    "labels = df[\"label\"].to_numpy()\n",
    "\n",
    "label_mapping = {label: idx for idx, label in enumerate(np.unique(labels))}\n",
    "y = np.array([label_mapping[label] for label in labels])\n",
    "\n",
    "X_train, X_test, y_train, y_test = train_test_split(\n",
    "    X, y, test_size=0.2, random_state=42, stratify=y\n",
    ")"
   ]
  },
  {
   "cell_type": "markdown",
   "metadata": {},
   "source": [
    "Теперь запустим сам алгоритм:"
   ]
  },
  {
   "cell_type": "code",
   "execution_count": 10,
   "metadata": {},
   "outputs": [],
   "source": [
    "loss_values = classifier.fit(\n",
    "    X_train,\n",
    "    y_train,\n",
    "    learning_rate=DefaultParams.learning_rate,\n",
    "    epochs=DefaultParams.epochs,\n",
    ")\n",
    "\n",
    "y_pred = classifier.predict_max(X_test)\n",
    "accuracy = accuracy_score(y_test, y_pred)"
   ]
  },
  {
   "cell_type": "code",
   "execution_count": 11,
   "metadata": {},
   "outputs": [
    {
     "name": "stdout",
     "output_type": "stream",
     "text": [
      "Default algorithm accuracy:  0.36764705882352944\n"
     ]
    },
    {
     "data": {
      "text/plain": [
       "[<matplotlib.lines.Line2D at 0x7fdd232f2480>]"
      ]
     },
     "execution_count": 11,
     "metadata": {},
     "output_type": "execute_result"
    },
    {
     "data": {
      "image/png": "[encoded data removed]",
      "text/plain": [
       "<Figure size 640x480 with 1 Axes>"
      ]
     },
     "metadata": {},
     "output_type": "display_data"
    }
   ],
   "source": [
    "print(\"Default algorithm accuracy: \", accuracy)\n",
    "plt.plot(loss_values)"
   ]
  },
  {
   "cell_type": "markdown",
   "metadata": {},
   "source": [
    "Исходя из значения *accuracy*, можно сделать вывод, что модель обучилась и смогла выдать результат лучше, чем при простом угадывании (0.1). Теперь можно попробовать подобрать оптимальные параметры обучения и сравнить результат. "
   ]
  },
  {
   "cell_type": "markdown",
   "metadata": {},
   "source": [
    "## Подбор параметров\n",
    "\n",
    "Проведём подбор гиперпараметров:"
   ]
  },
  {
   "cell_type": "code",
   "execution_count": 15,
   "metadata": {},
   "outputs": [],
   "source": [
    "def param_fit(\n",
    "    hidden_neurons_num=512,\n",
    "    batch_size=100,\n",
    "    learning_rate=0.0001,\n",
    "    reg=0.00001,\n",
    "):\n",
    "    classifier = MyClassifier(\n",
    "        DefaultParams.input_num, DefaultParams.classes_num, hidden_neurons_num\n",
    "    )\n",
    "\n",
    "    loss_values = classifier.fit(\n",
    "        X_train, y_train, batch_size, learning_rate, reg=reg, epochs=20\n",
    "    )\n",
    "\n",
    "    y_pred = classifier.predict_max(X_test)\n",
    "    accuracy = accuracy_score(y_test, y_pred)\n",
    "\n",
    "    return accuracy, loss_values\n",
    "\n",
    "\n",
    "def tune(param_name, param_values):\n",
    "    accuracies = []\n",
    "\n",
    "    for value in param_values:\n",
    "        accuracy, _ = param_fit(**{param_name: value})\n",
    "        accuracies.append(accuracy)\n",
    "\n",
    "    return accuracies"
   ]
  },
  {
   "cell_type": "code",
   "execution_count": 16,
   "metadata": {},
   "outputs": [
    {
     "name": "stdout",
     "output_type": "stream",
     "text": [
      "Param: hidden_neurons_num, Best value: 512\n",
      "Param: batch_size, Best value: 100\n",
      "Param: reg, Best value: 0.1\n"
     ]
    },
    {
     "name": "stderr",
     "output_type": "stream",
     "text": [
      "/home/denicoma/dev/ml-course/hw/task7/utils.py:38: RuntimeWarning: divide by zero encountered in log\n",
      "  return -np.log(\n",
      "/home/denicoma/dev/ml-course/hw/task7/utils.py:38: RuntimeWarning: divide by zero encountered in log\n",
      "  return -np.log(\n",
      "/home/denicoma/dev/ml-course/hw/task7/utils.py:38: RuntimeWarning: divide by zero encountered in log\n",
      "  return -np.log(\n",
      "/home/denicoma/dev/ml-course/hw/task7/utils.py:38: RuntimeWarning: divide by zero encountered in log\n",
      "  return -np.log(\n",
      "/home/denicoma/dev/ml-course/hw/task7/utils.py:38: RuntimeWarning: divide by zero encountered in log\n",
      "  return -np.log(\n"
     ]
    },
    {
     "name": "stdout",
     "output_type": "stream",
     "text": [
      "Param: learning_rate, Best value: 0.0001\n"
     ]
    }
   ],
   "source": [
    "param_grid = {\n",
    "    \"hidden_neurons_num\": [512, 256, 128, 64],\n",
    "    \"batch_size\": [100, 200, 300, 400, 500, 1000],\n",
    "    \"reg\": [1.0, 0.5, 0.1, 0.15, 0.01, 0.001, 0.0001, 0.00001],\n",
    "    \"learning_rate\": [1.0, 0.5, 0.1, 0.15, 0.01, 0.001, 0.0001, 0.00001],\n",
    "}\n",
    "accuracy_grid = {}\n",
    "\n",
    "for param, values in param_grid.items():\n",
    "    accuracy_grid[param] = tune(param, values)\n",
    "\n",
    "    best_value_index = np.array(accuracy_grid[param]).argmax()\n",
    "    print(f\"Param: {param}, Best value: {param_grid[param][best_value_index]}\")"
   ]
  },
  {
   "cell_type": "code",
   "execution_count": 21,
   "metadata": {},
   "outputs": [
    {
     "data": {
      "image/png": "[encoded data removed]",
      "text/plain": [
       "<Figure size 500x300 with 1 Axes>"
      ]
     },
     "metadata": {},
     "output_type": "display_data"
    },
    {
     "data": {
      "image/png": "[encoded data removed]",
      "text/plain": [
       "<Figure size 500x300 with 1 Axes>"
      ]
     },
     "metadata": {},
     "output_type": "display_data"
    },
    {
     "data": {
      "image/png": "[encoded data removed]",
      "text/plain": [
       "<Figure size 500x300 with 1 Axes>"
      ]
     },
     "metadata": {},
     "output_type": "display_data"
    },
    {
     "data": {
      "image/png": "[encoded data removed]",
      "text/plain": [
       "<Figure size 500x300 with 1 Axes>"
      ]
     },
     "metadata": {},
     "output_type": "display_data"
    }
   ],
   "source": [
    "for param, accuracies in accuracy_grid.items():\n",
    "    param_values = param_grid[param]\n",
    "\n",
    "    plt.figure(figsize=(5, 3))\n",
    "    plt.bar(range(len(param_values)), accuracies, tick_label=param_values, color=\"skyblue\", edgecolor=\"black\")\n",
    "    \n",
    "    plt.xlabel(param.replace(\"_\", \" \").title())\n",
    "    plt.ylabel(\"Accuracy\")\n",
    "    plt.title(f\"Accuracy vs. {param.replace('_', ' ').title()}\")\n",
    "    plt.xticks(rotation=45)\n",
    "    plt.grid(axis=\"y\", linestyle=\"--\", alpha=0.7)\n",
    "    \n",
    "    plt.show()"
   ]
  },
  {
   "cell_type": "markdown",
   "metadata": {},
   "source": [
    "Запишем полученные результаты для дальнейшего использования:"
   ]
  },
  {
   "cell_type": "code",
   "execution_count": null,
   "metadata": {},
   "outputs": [],
   "source": [
    "class BestParams:\n",
    "    hidden_neurons_num = 512\n",
    "    batch_size = 100\n",
    "    learning_rate = 0.0001\n",
    "    reg = 0.1\n",
    "    epochs = 50"
   ]
  },
  {
   "cell_type": "markdown",
   "metadata": {},
   "source": [
    "## Batch normalization\n",
    "\n",
    "Применим *batch normalization* и сравним полученный результат с обычным классификатором, использовавшимся ранее. Для наибольшей эффективности, в качестве параметров классификаторов будем использовать полученные выше."
   ]
  },
  {
   "cell_type": "code",
   "execution_count": null,
   "metadata": {},
   "outputs": [],
   "source": [
    "batchnorm_classifier = MyBatchnormClassifier(\n",
    "    DefaultParams.input_num, DefaultParams.classes_num, BestParams.hidden_neurons_num\n",
    ")\n",
    "\n",
    "classifier = MyBatchnormClassifier(\n",
    "    DefaultParams.input_num,\n",
    "    DefaultParams.classes_num,\n",
    "    BestParams.hidden_neurons_num,\n",
    ")"
   ]
  },
  {
   "cell_type": "code",
   "execution_count": null,
   "metadata": {},
   "outputs": [],
   "source": [
    "batchnorm_classifier.fit(\n",
    "    X_train,\n",
    "    y_train,\n",
    "    batch_size=BestParams.batch_size,\n",
    "    learning_rate=BestParams.learning_rate,\n",
    "    reg=BestParams.reg,\n",
    "    epochs=BestParams.epochs,\n",
    ")\n",
    "\n",
    "y_pred = batchnorm_classifier.predict_max(X_test)\n",
    "batchnorm_accuracy = accuracy_score(y_test, y_pred)"
   ]
  },
  {
   "cell_type": "code",
   "execution_count": null,
   "metadata": {},
   "outputs": [],
   "source": [
    "classifier.fit(\n",
    "    X_train,\n",
    "    y_train,\n",
    "    batch_size=BestParams.batch_size,\n",
    "    learning_rate=BestParams.learning_rate,\n",
    "    reg=BestParams.reg,\n",
    "    epochs=BestParams.epochs,\n",
    ")\n",
    "\n",
    "y_pred = classifier.predict_max(X_test)\n",
    "accuracy = accuracy_score(y_test, y_pred)"
   ]
  },
  {
   "cell_type": "code",
   "execution_count": null,
   "metadata": {},
   "outputs": [],
   "source": [
    "print(f\"Accuracy with batch normalization: {batchnorm_accuracy:.4f}\")\n",
    "print(f\"Simple classifier accuracy: {accuracy:.4f}\")\n",
    "\n",
    "\n",
    "difference = (\n",
    "    (max(batchnorm_accuracy, accuracy) - min(batchnorm_accuracy, accuracy))\n",
    "    / min(batchnorm_accuracy, accuracy)\n",
    ") * 100\n",
    "print(f\"Difference: {difference:.2f}%\")\n"
   ]
  },
  {
   "cell_type": "markdown",
   "metadata": {},
   "source": [
    "В результате действительно удалось повысить показатель *accuracy*!"
   ]
  },
  {
   "cell_type": "markdown",
   "metadata": {},
   "source": [
    "## Оптимизаторы\n",
    "\n",
    "### Momentum"
   ]
  },
  {
   "cell_type": "code",
   "execution_count": null,
   "metadata": {},
   "outputs": [],
   "source": [
    "%%skip\n",
    "batchnorm_momentum_classifier = MyBatchnormMomentumClassifier(\n",
    "    input_num, classes_num, BEST_HIDDEN_NEURONS_NUM\n",
    ")\n",
    "\n",
    "batchnorm_momentum_classifier.fit(\n",
    "    X_train,\n",
    "    y_train,\n",
    "    batch_size=BEST_BATCH_SIZE,\n",
    "    learning_rate=BEST_LEARNING_RATE,\n",
    "    reg=BEST_REG,\n",
    "    epochs=EPOCHS,\n",
    "    mu=0.9,\n",
    ")\n",
    "\n",
    "y_pred = batchnorm_momentum_classifier.predict_max(X_test)\n",
    "batchnorm_momentum_accuracy = accuracy_score(y_test, y_pred)\n",
    "\n",
    "print(f\"Accuracy with batch normalization and momentum optimization: {batchnorm_momentum_accuracy:.4f}\")"
   ]
  },
  {
   "cell_type": "markdown",
   "metadata": {},
   "source": [
    "### Adam"
   ]
  },
  {
   "cell_type": "code",
   "execution_count": null,
   "metadata": {},
   "outputs": [
    {
     "name": "stdout",
     "output_type": "stream",
     "text": [
      "Accuracy with batch normalization and Adam optimization: 0.7255\n"
     ]
    }
   ],
   "source": [
    "%%skip\n",
    "batchnorm_adam_classifier = MyBatchnormAdamClassifier(\n",
    "    input_num, classes_num, BEST_HIDDEN_NEURONS_NUM\n",
    ")\n",
    "\n",
    "batchnorm_adam_classifier.fit(\n",
    "    X_train,\n",
    "    y_train,\n",
    "    batch_size=BEST_BATCH_SIZE,\n",
    "    learning_rate=BEST_LEARNING_RATE,\n",
    "    reg=BEST_REG,\n",
    "    epochs=EPOCHS,\n",
    ")\n",
    "\n",
    "y_pred = batchnorm_adam_classifier.predict_max(X_test)\n",
    "batchnorm_adam_accuracy = accuracy_score(y_test, y_pred)\n",
    "\n",
    "print(\n",
    "    f\"Accuracy with batch normalization and Adam optimization: {batchnorm_adam_accuracy:.4f}\"\n",
    ")"
   ]
  },
  {
   "cell_type": "markdown",
   "metadata": {},
   "source": [
    "## Заключение\n",
    "В ходе работы была реализована нейросеть для классификации изображений:\n",
    "- В качестве датасета была выбрана коллекция изображений с более чем 10 000 экземплярами бабочек. \n",
    "- Датасет был отфильтров, изображения нормализованы для лучшего обучений нейронной сети.\n",
    "- Реализованы два линейных слоя и один нелинейный (с функцией *Relu*).\n",
    "- Использованы *CrossEntropyLoss* и *L2-регуляризация*.\n",
    "- Проведено обучение модели, подбор гиперпараметров и оценка качества на тестовой выборке.\n",
    "- Добавлена *Batch normalization*, реализован и применён оптимизатор Momentum.\n",
    "- Реализован оптимизатор *Adam*.\n",
    "- Выполнено сравнение результатов между всеми получившимися классификаторами."
   ]
  }
 ],
 "metadata": {
  "kernelspec": {
   "display_name": ".venv",
   "language": "python",
   "name": "python3"
  },
  "language_info": {
   "codemirror_mode": {
    "name": "ipython",
    "version": 3
   },
   "file_extension": ".py",
   "mimetype": "text/x-python",
   "name": "python",
   "nbconvert_exporter": "python",
   "pygments_lexer": "ipython3",
   "version": "3.12.8"
  }
 },
 "nbformat": 4,
 "nbformat_minor": 2
}
