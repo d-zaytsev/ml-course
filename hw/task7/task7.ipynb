{
 "cells": [
  {
   "cell_type": "markdown",
   "metadata": {},
   "source": [
    "# Задача 7. Нейронные сети\n",
    "\n",
    "## Задача\n",
    "\n",
    "- [ ] Найти данные в виде изображений для задачи классификации.\n",
    "- [ ] Реализовать классы, необходимые для построения сети со следующими слоями\n",
    "\t- FullyConnectedLayer\n",
    "\t- ReluLayer\n",
    "\t- FullyConnectedLayer\n",
    "- [ ] Использовать CrossEntropyLoss и L2-регуляризацию.\n",
    "- [ ] Обучить модель на тренировочных данных, подбирать параметры (особенно learning rate) на валидационной и оценить качество на тестовой. Анализировать графики train/val loss, проверять на каждом шаге корректность вычисления градиентов с помощью разностной оценки.\n",
    "- [ ] * (**+2 балла**) Добавить Batch normalization.\n",
    "- [ ] * (**+2 балла**) В качестве оптимизатор использовать один из: Momentum, RMSprop.\n",
    "- [ ] * (**+1 балл**) Также реализовать оптимизатор Adam."
   ]
  },
  {
   "cell_type": "markdown",
   "metadata": {},
   "source": [
    "## Датасет\n",
    "\n",
    "[Butterfly Image Classification](https://www.kaggle.com/datasets/phucthaiv02/butterfly-image-classification) — содержит более 10 000 изображений 75 различных видов бабочек.\n",
    "\n",
    "Каждое изображение имеет размер 224x224 пикселя. Класс каждого изображения хранится в файле Training_set.csv."
   ]
  },
  {
   "cell_type": "code",
   "execution_count": 8,
   "metadata": {},
   "outputs": [],
   "source": [
    "import kagglehub\n",
    "import pandas as pd\n",
    "import os\n",
    "import numpy as np\n",
    "import matplotlib as mpl\n",
    "import matplotlib.pyplot as plt\n",
    "from sklearn.preprocessing import MinMaxScaler\n",
    "from sklearn.cluster import KMeans\n",
    "from scipy.spatial import distance\n",
    "from sklearn.metrics import (\n",
    "    silhouette_score,\n",
    "    calinski_harabasz_score,\n",
    ")\n",
    "from sklearn.cluster import AffinityPropagation\n",
    "from statistics import mean\n",
    "import seaborn as sns\n",
    "import time\n",
    "from itertools import product\n",
    "from sklearn.decomposition import PCA\n",
    "from sklearn.manifold import TSNE\n",
    "import tensorflow as tf\n"
   ]
  },
  {
   "cell_type": "code",
   "execution_count": 9,
   "metadata": {},
   "outputs": [
    {
     "data": {
      "text/html": [
       "<div>\n",
       "<style scoped>\n",
       "    .dataframe tbody tr th:only-of-type {\n",
       "        vertical-align: middle;\n",
       "    }\n",
       "\n",
       "    .dataframe tbody tr th {\n",
       "        vertical-align: top;\n",
       "    }\n",
       "\n",
       "    .dataframe thead th {\n",
       "        text-align: right;\n",
       "    }\n",
       "</style>\n",
       "<table border=\"1\" class=\"dataframe\">\n",
       "  <thead>\n",
       "    <tr style=\"text-align: right;\">\n",
       "      <th></th>\n",
       "      <th>filename</th>\n",
       "      <th>label</th>\n",
       "    </tr>\n",
       "  </thead>\n",
       "  <tbody>\n",
       "    <tr>\n",
       "      <th>0</th>\n",
       "      <td>Image_1.jpg</td>\n",
       "      <td>SOUTHERN DOGFACE</td>\n",
       "    </tr>\n",
       "    <tr>\n",
       "      <th>1</th>\n",
       "      <td>Image_2.jpg</td>\n",
       "      <td>ADONIS</td>\n",
       "    </tr>\n",
       "    <tr>\n",
       "      <th>2</th>\n",
       "      <td>Image_3.jpg</td>\n",
       "      <td>BROWN SIPROETA</td>\n",
       "    </tr>\n",
       "    <tr>\n",
       "      <th>3</th>\n",
       "      <td>Image_4.jpg</td>\n",
       "      <td>MONARCH</td>\n",
       "    </tr>\n",
       "    <tr>\n",
       "      <th>4</th>\n",
       "      <td>Image_5.jpg</td>\n",
       "      <td>GREEN CELLED CATTLEHEART</td>\n",
       "    </tr>\n",
       "  </tbody>\n",
       "</table>\n",
       "</div>"
      ],
      "text/plain": [
       "      filename                     label\n",
       "0  Image_1.jpg          SOUTHERN DOGFACE\n",
       "1  Image_2.jpg                    ADONIS\n",
       "2  Image_3.jpg            BROWN SIPROETA\n",
       "3  Image_4.jpg                   MONARCH\n",
       "4  Image_5.jpg  GREEN CELLED CATTLEHEART"
      ]
     },
     "execution_count": 9,
     "metadata": {},
     "output_type": "execute_result"
    }
   ],
   "source": [
    "folder = kagglehub.dataset_download(\"phucthaiv02/butterfly-image-classification\")\n",
    "training_set_path = os.path.join(folder, \"Training_set.csv\")\n",
    "testing_set_path = os.path.join(folder, \"Testing_set.csv\")\n",
    "\n",
    "training_df = pd.read_csv(training_set_path)\n",
    "testing_df = pd.read_csv(testing_set_path)\n",
    "\n",
    "training_df.head(5)"
   ]
  },
  {
   "cell_type": "code",
   "execution_count": 10,
   "metadata": {},
   "outputs": [
    {
     "data": {
      "text/plain": [
       "label\n",
       "MOURNING CLOAK    131\n",
       "SLEEPY ORANGE     107\n",
       "ATALA             100\n",
       "BROWN SIPROETA     99\n",
       "SCARCE SWALLOW     97\n",
       "                 ... \n",
       "AMERICAN SNOOT     74\n",
       "GOLD BANDED        73\n",
       "MALACHITE          73\n",
       "CRIMSON PATCH      72\n",
       "WOOD SATYR         71\n",
       "Name: count, Length: 75, dtype: int64"
      ]
     },
     "execution_count": 10,
     "metadata": {},
     "output_type": "execute_result"
    }
   ],
   "source": [
    "class_counts = training_df['label'].value_counts().sort_values(ascending=False)\n",
    "\n",
    "class_counts"
   ]
  },
  {
   "cell_type": "code",
   "execution_count": 13,
   "metadata": {},
   "outputs": [
    {
     "data": {
      "text/html": [
       "<div>\n",
       "<style scoped>\n",
       "    .dataframe tbody tr th:only-of-type {\n",
       "        vertical-align: middle;\n",
       "    }\n",
       "\n",
       "    .dataframe tbody tr th {\n",
       "        vertical-align: top;\n",
       "    }\n",
       "\n",
       "    .dataframe thead th {\n",
       "        text-align: right;\n",
       "    }\n",
       "</style>\n",
       "<table border=\"1\" class=\"dataframe\">\n",
       "  <thead>\n",
       "    <tr style=\"text-align: right;\">\n",
       "      <th></th>\n",
       "      <th>filename</th>\n",
       "      <th>label</th>\n",
       "      <th>image</th>\n",
       "    </tr>\n",
       "  </thead>\n",
       "  <tbody>\n",
       "    <tr>\n",
       "      <th>0</th>\n",
       "      <td>Image_1.jpg</td>\n",
       "      <td>SOUTHERN DOGFACE</td>\n",
       "      <td>[[[0.09803922, 0.16862746, 0.12156863], [0.098...</td>\n",
       "    </tr>\n",
       "    <tr>\n",
       "      <th>1</th>\n",
       "      <td>Image_2.jpg</td>\n",
       "      <td>ADONIS</td>\n",
       "      <td>[[[0.57254905, 0.56078434, 0.36078432], [0.6, ...</td>\n",
       "    </tr>\n",
       "    <tr>\n",
       "      <th>2</th>\n",
       "      <td>Image_3.jpg</td>\n",
       "      <td>BROWN SIPROETA</td>\n",
       "      <td>[[[0.9254902, 0.9098039, 0.8980392], [0.925490...</td>\n",
       "    </tr>\n",
       "  </tbody>\n",
       "</table>\n",
       "</div>"
      ],
      "text/plain": [
       "      filename             label  \\\n",
       "0  Image_1.jpg  SOUTHERN DOGFACE   \n",
       "1  Image_2.jpg            ADONIS   \n",
       "2  Image_3.jpg    BROWN SIPROETA   \n",
       "\n",
       "                                               image  \n",
       "0  [[[0.09803922, 0.16862746, 0.12156863], [0.098...  \n",
       "1  [[[0.57254905, 0.56078434, 0.36078432], [0.6, ...  \n",
       "2  [[[0.9254902, 0.9098039, 0.8980392], [0.925490...  "
      ]
     },
     "execution_count": 13,
     "metadata": {},
     "output_type": "execute_result"
    }
   ],
   "source": [
    "train_img_folder = os.path.join(folder, \"train\")\n",
    "\n",
    "\n",
    "def load_image(filename):\n",
    "    img_path = os.path.join(train_img_folder, filename)\n",
    "    img = tf.keras.preprocessing.image.load_img(img_path, target_size=(224, 224))\n",
    "    img = tf.keras.preprocessing.image.img_to_array(img) / 255.0\n",
    "    return img\n",
    "\n",
    "\n",
    "training_df[\"image\"] = training_df[\"filename\"].apply(load_image)\n",
    "\n",
    "training_df.head(3)"
   ]
  }
 ],
 "metadata": {
  "kernelspec": {
   "display_name": ".venv",
   "language": "python",
   "name": "python3"
  },
  "language_info": {
   "codemirror_mode": {
    "name": "ipython",
    "version": 3
   },
   "file_extension": ".py",
   "mimetype": "text/x-python",
   "name": "python",
   "nbconvert_exporter": "python",
   "pygments_lexer": "ipython3",
   "version": "3.12.5"
  }
 },
 "nbformat": 4,
 "nbformat_minor": 2
}
