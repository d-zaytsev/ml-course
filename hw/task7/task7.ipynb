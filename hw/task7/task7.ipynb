{
 "cells": [
  {
   "cell_type": "markdown",
   "metadata": {},
   "source": [
    "# Задача 7. Нейронные сети\n",
    "\n",
    "## Задача\n",
    "\n",
    "- [ ] Найти данные в виде изображений для задачи классификации.\n",
    "- [ ] Реализовать классы, необходимые для построения сети со следующими слоями\n",
    "\t- FullyConnectedLayer\n",
    "\t- ReluLayer\n",
    "\t- FullyConnectedLayer\n",
    "- [ ] Использовать CrossEntropyLoss и L2-регуляризацию.\n",
    "- [ ] Обучить модель на тренировочных данных, подбирать параметры (особенно learning rate) на валидационной и оценить качество на тестовой. Анализировать графики train/val loss, проверять на каждом шаге корректность вычисления градиентов с помощью разностной оценки.\n",
    "- [ ] * (**+2 балла**) Добавить Batch normalization.\n",
    "- [ ] * (**+2 балла**) В качестве оптимизатор использовать один из: Momentum, RMSprop.\n",
    "- [ ] * (**+1 балл**) Также реализовать оптимизатор Adam."
   ]
  },
  {
   "cell_type": "markdown",
   "metadata": {},
   "source": [
    "## Датасет\n",
    "\n",
    "[Butterfly Image Classification](https://www.kaggle.com/datasets/phucthaiv02/butterfly-image-classification) — содержит более 10 000 изображений 75 различных видов бабочек.\n",
    "\n",
    "Каждое изображение имеет размер 224x224 пикселя. Класс каждого изображения хранится в файле Training_set.csv."
   ]
  }
 ],
 "metadata": {
  "language_info": {
   "name": "python"
  }
 },
 "nbformat": 4,
 "nbformat_minor": 2
}
