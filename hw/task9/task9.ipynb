{
 "cells": [
  {
   "cell_type": "markdown",
   "id": "54599795",
   "metadata": {},
   "source": [
    "# Задача 9. Hand-crafted graph features\n",
    "\n",
    "## Задача\n",
    "\n",
    "- [x] Найти или сгенерировать набор данных для бинарной классификации графов.\n",
    "- [x] Реализовать функцию `shortest_path_kernel(train_graphs, test_graphs)`, которая принимает тренировочный и тестовые наборы, а возвращает пару `K_train, K_test`\n",
    "  - Опишите графы с помощью вектора из количества кратчайших путей различной длины\n",
    "  - Для вычисления длин кратчайших путей можно использовать `nx.shortest_path_length(G)`\n",
    "  - Ядровая функция для сравнения двух графов - скалярное произведение их двух векторов\n",
    "  - `K_train` - матрица из ядровых функций для сравнения тренировочных графов между собой\n",
    "  - `K_test` - матрица из ядровых функций для сравнения тестовых графов с тренировочными\n",
    "- [x] Используя реализованное ядро обучите модель SVC, подберите гиперпараметры, вычислите различные метрики качества\n",
    "- [x] (+5 баллов) Также реализовать Weisfeiler-Lehman Kernel и обучить классификатор с ним, сравнить результаты."
   ]
  },
  {
   "cell_type": "code",
   "execution_count": 116,
   "id": "523e63e4",
   "metadata": {},
   "outputs": [],
   "source": [
    "import matplotlib.pyplot as plt\n",
    "import networkx as nx\n",
    "from networkx.generators import random_unlabeled_tree, random_lobster\n",
    "import torch\n",
    "import itertools\n",
    "from sklearn.model_selection import train_test_split\n",
    "import numpy as np\n",
    "from sklearn.svm import SVC\n",
    "from sklearn.metrics import accuracy_score\n",
    "import tqdm"
   ]
  },
  {
   "cell_type": "markdown",
   "id": "d71fa657",
   "metadata": {},
   "source": [
    "# Набор данных"
   ]
  },
  {
   "cell_type": "code",
   "execution_count": 117,
   "id": "35df6113",
   "metadata": {},
   "outputs": [],
   "source": [
    "def graph_to_edge_list(G: nx.Graph):\n",
    "    edge_list = list(G.edges())\n",
    "\n",
    "    return edge_list\n",
    "\n",
    "\n",
    "def edges_to_tensor(edge_list):\n",
    "    edge_index = torch.tensor(edge_list, dtype=torch.long).permute((1, 0))\n",
    "\n",
    "    return edge_index\n",
    "\n",
    "\n",
    "def generate_good_lobster():\n",
    "    while True:\n",
    "        lobster = random_lobster(10, 0.8, 0.8)\n",
    "\n",
    "        if len(lobster.nodes) == 40:\n",
    "            return lobster\n",
    "\n",
    "\n",
    "# 0 - lobster tree\n",
    "# 1 - default tree\n",
    "\n",
    "\n",
    "def create_dataset(size):\n",
    "    lobster_graphs = list(itertools.repeat(generate_good_lobster(), size // 2))\n",
    "    y1 = [0] * len(lobster_graphs)\n",
    "\n",
    "    default_tree_graphs = list(itertools.repeat(random_unlabeled_tree(40), size // 2))\n",
    "    y2 = [1] * len(default_tree_graphs)\n",
    "\n",
    "    graphs = list(itertools.chain(lobster_graphs, default_tree_graphs))\n",
    "    y = list(itertools.chain(y1, y2))\n",
    "\n",
    "    return graphs, y"
   ]
  },
  {
   "cell_type": "code",
   "execution_count": 118,
   "id": "015be687",
   "metadata": {},
   "outputs": [
    {
     "name": "stdout",
     "output_type": "stream",
     "text": [
      "40 40\n"
     ]
    },
    {
     "data": {
      "image/png": "[encoded data removed]",
      "text/plain": [
       "<Figure size 800x800 with 2 Axes>"
      ]
     },
     "metadata": {},
     "output_type": "display_data"
    }
   ],
   "source": [
    "graphs, y = create_dataset(1000)\n",
    "\n",
    "train_graphs, test_graphs, y_train, y_test = train_test_split(\n",
    "    graphs, y, test_size=0.5, stratify=y\n",
    ")\n",
    "\n",
    "fig = plt.figure(figsize=(8, 8))\n",
    "\n",
    "lobster_tree = train_graphs[y_train.index(0)]\n",
    "default_tree = train_graphs[y_train.index(1)]\n",
    "\n",
    "print(len(lobster_tree.nodes), len(default_tree.nodes))\n",
    "\n",
    "ax1 = fig.add_subplot(2, 2, 1)\n",
    "nx.draw(lobster_tree, ax=ax1)\n",
    "ax1.set_title(\"Lobster Tree\")\n",
    "\n",
    "ax2 = fig.add_subplot(2, 2, 2)\n",
    "nx.draw(default_tree, ax=ax2)\n",
    "ax2.set_title(\"Default Tree\")\n",
    "\n",
    "plt.show()"
   ]
  },
  {
   "cell_type": "markdown",
   "id": "4daf26ff",
   "metadata": {},
   "source": [
    "# Shortest Path Kernel"
   ]
  },
  {
   "cell_type": "code",
   "execution_count": 119,
   "id": "e5c70be4",
   "metadata": {},
   "outputs": [],
   "source": [
    "def shortest_path_kernel(train_graphs, test_graphs, max_paths=5, n_samples=10):\n",
    "    phi_train = np.zeros((len(train_graphs), max_paths))\n",
    "    phi_test = np.zeros((len(test_graphs), max_paths))\n",
    "\n",
    "    for i, graph in enumerate(train_graphs):\n",
    "        for j in range(n_samples):\n",
    "            pair = np.random.choice(graph.nodes(), 2)\n",
    "            source, target = pair[0], pair[1]\n",
    "\n",
    "            path_length = nx.shortest_path_length(graph, source, target)\n",
    "            path_length = min(path_length, max_paths - 1)\n",
    "\n",
    "            phi_train[i][path_length] += 1\n",
    "\n",
    "    for i, graph in enumerate(test_graphs):\n",
    "        for j in range(n_samples):\n",
    "            pair = np.random.choice(graph.nodes(), 2)\n",
    "            source, target = pair[0], pair[1]\n",
    "\n",
    "            path_length = nx.shortest_path_length(graph, source, target)\n",
    "            path_length = min(path_length, max_paths - 1)\n",
    "\n",
    "            phi_test[i][path_length] += 1\n",
    "\n",
    "    K_train = np.dot(phi_train, phi_train.T)\n",
    "    K_test = np.dot(phi_test, phi_train.T)\n",
    "\n",
    "    return K_train, K_test\n"
   ]
  },
  {
   "cell_type": "markdown",
   "id": "96597165",
   "metadata": {},
   "source": [
    "# Обучение"
   ]
  },
  {
   "cell_type": "code",
   "execution_count": 120,
   "id": "6b392799",
   "metadata": {},
   "outputs": [],
   "source": [
    "K_train_gk, K_test_gk = shortest_path_kernel(train_graphs, test_graphs)"
   ]
  },
  {
   "cell_type": "code",
   "execution_count": 121,
   "id": "700066e6",
   "metadata": {},
   "outputs": [
    {
     "name": "stdout",
     "output_type": "stream",
     "text": [
      "Accuracy for Shortest Path Kernel 0.632\n"
     ]
    }
   ],
   "source": [
    "model = SVC(kernel=\"precomputed\", random_state=42)\n",
    "model.fit(K_train_gk, y_train)\n",
    "y_pred = model.predict(K_test_gk)\n",
    "print(\"Accuracy for Shortest Path Kernel\", accuracy_score(y_test, y_pred))"
   ]
  },
  {
   "cell_type": "markdown",
   "id": "7cb7e5da",
   "metadata": {},
   "source": [
    "## Подбор гиперпараметров"
   ]
  },
  {
   "cell_type": "code",
   "execution_count": 122,
   "id": "6169c843",
   "metadata": {},
   "outputs": [
    {
     "name": "stderr",
     "output_type": "stream",
     "text": [
      "100%|██████████| 6/6 [00:01<00:00,  4.74it/s]\n",
      "100%|██████████| 6/6 [00:02<00:00,  2.04it/s]\n"
     ]
    }
   ],
   "source": [
    "MAX_PATH_LENGTHS = [1, 5, 10, 15, 20, 30]\n",
    "SAMPLES_COUNT = [1, 10, 20, 30, 40, 50]\n",
    "\n",
    "path_accuracy = []\n",
    "samples_accuracy = []\n",
    "\n",
    "\n",
    "for max_path in tqdm.tqdm(MAX_PATH_LENGTHS):\n",
    "    K_train_gk, K_test_gk = shortest_path_kernel(\n",
    "        train_graphs, test_graphs, max_paths=max_path\n",
    "    )\n",
    "    model = SVC(kernel=\"precomputed\", random_state=42)\n",
    "    model.fit(K_train_gk, y_train)\n",
    "    y_pred = model.predict(K_test_gk)\n",
    "    path_accuracy.append(accuracy_score(y_test, y_pred))\n",
    "\n",
    "for samples_count in tqdm.tqdm(SAMPLES_COUNT):\n",
    "    K_train_gk, K_test_gk = shortest_path_kernel(\n",
    "        train_graphs, test_graphs, n_samples=samples_count\n",
    "    )\n",
    "    model = SVC(kernel=\"precomputed\", random_state=42)\n",
    "    model.fit(K_train_gk, y_train)\n",
    "    y_pred = model.predict(K_test_gk)\n",
    "    samples_accuracy.append(accuracy_score(y_test, y_pred))"
   ]
  },
  {
   "cell_type": "code",
   "execution_count": 123,
   "id": "e209f5e3",
   "metadata": {},
   "outputs": [
    {
     "data": {
      "image/png": "[encoded data removed]",
      "text/plain": [
       "<Figure size 640x480 with 1 Axes>"
      ]
     },
     "metadata": {},
     "output_type": "display_data"
    }
   ],
   "source": [
    "plt.plot(MAX_PATH_LENGTHS, path_accuracy)\n",
    "plt.plot(SAMPLES_COUNT, samples_accuracy)\n",
    "plt.show()"
   ]
  },
  {
   "cell_type": "markdown",
   "id": "d497cbe5",
   "metadata": {},
   "source": [
    "Из графика выше можно сделать вывод, что значение *максимального количества путей* (отслеживаемого в функции построения ядра), больше влияет на обучаемость модели, чем *количество измерений количества путей*.\n",
    "\n",
    "Также, удалось достичь достаточно высокого показателя accuracy на большой (50%) тестовой выборке. Можно сделать предположение, что отличить Lobster Graph от обычного дерева достаточно просто..."
   ]
  },
  {
   "cell_type": "markdown",
   "id": "c808ca38",
   "metadata": {},
   "source": [
    "# WL-Kernel"
   ]
  },
  {
   "cell_type": "code",
   "execution_count": 124,
   "id": "e9de1208",
   "metadata": {},
   "outputs": [],
   "source": [
    "def wl_kernel_helper(graph: nx.Graph, iterations=1, limit=100):\n",
    "    for node in graph.nodes:\n",
    "        graph.nodes[node][\"color\"] = \"1\"\n",
    "\n",
    "    hash_table = {}\n",
    "    max_color = 2\n",
    "\n",
    "    for i in range(iterations):\n",
    "        if i > 0:\n",
    "            for node in graph.nodes:\n",
    "                value = f\"{graph.nodes[node]['color']},{graph.nodes[node]['neighbor_colors']}\"\n",
    "                graph.nodes[node][\"neighbor_colors\"] = \"\"\n",
    "                graph.nodes[node][\"color\"] = str(hash_table[value])\n",
    "\n",
    "        for node in graph.nodes:\n",
    "            graph.nodes[node][\"neighbor_colors\"] = \"\"\n",
    "\n",
    "            for neighbor in nx.neighbors(graph, node):\n",
    "                graph.nodes[node][\"neighbor_colors\"] += graph.nodes[neighbor][\"color\"]\n",
    "\n",
    "        for node in graph.nodes:\n",
    "            value = (\n",
    "                f\"{graph.nodes[node]['color']},{graph.nodes[node]['neighbor_colors']}\"\n",
    "            )\n",
    "\n",
    "            if value not in hash_table:\n",
    "                hash_table[value] = max_color\n",
    "                max_color += 1\n",
    "\n",
    "    phi = np.zeros(limit)\n",
    "\n",
    "    for node in graph.nodes:\n",
    "        value = f\"{graph.nodes[node]['color']},{graph.nodes[node]['neighbor_colors']}\"\n",
    "        color = min(hash_table[value], limit - 1)\n",
    "\n",
    "        phi[color] += 1\n",
    "\n",
    "    return phi\n",
    "\n",
    "\n",
    "def wl_kernel(train_graphs, test_graphs, iterations=1, limit=100):\n",
    "    phi_train = np.zeros((len(train_graphs), limit))\n",
    "    phi_test = np.zeros((len(test_graphs), limit))\n",
    "\n",
    "    for i, graph in enumerate(train_graphs):\n",
    "        phi_train[i] = wl_kernel_helper(graph, iterations, limit)\n",
    "\n",
    "    for i, graph in enumerate(test_graphs):\n",
    "        phi_test[i] = wl_kernel_helper(graph, iterations, limit)\n",
    "\n",
    "    K_train = np.dot(phi_train, phi_train.T)\n",
    "    K_test = np.dot(phi_test, phi_train.T)\n",
    "\n",
    "    return K_train, K_test"
   ]
  },
  {
   "cell_type": "code",
   "execution_count": 125,
   "id": "6e58817b",
   "metadata": {},
   "outputs": [
    {
     "name": "stdout",
     "output_type": "stream",
     "text": [
      "1.0\n"
     ]
    }
   ],
   "source": [
    "K_train_gk, K_test_gk = wl_kernel(train_graphs, test_graphs, iterations=1, limit=50)\n",
    "model = SVC(kernel=\"precomputed\", random_state=42)\n",
    "\n",
    "model.fit(K_train_gk, y_train)\n",
    "y_pred = model.predict(K_test_gk)\n",
    "\n",
    "print(accuracy_score(y_test, y_pred))"
   ]
  },
  {
   "cell_type": "markdown",
   "id": "529da9e2",
   "metadata": {},
   "source": [
    "Результат получился лучше, чем с прошлым ядром, даже без подбора гиперпараметров."
   ]
  },
  {
   "cell_type": "markdown",
   "id": "74cb77cb",
   "metadata": {},
   "source": [
    "# Заключение\n",
    "\n",
    "- Сгенерирован набор данных для бинарной классификации графов. Выбраны lobster-графы и обычные деревья.\n",
    "- Реализован Shortest Path Kernel.\n",
    "- Обучен SVC с использованием этого ядра, подобраны гиперпараметры, рассчитаны метрики качества.\n",
    "- Дополнительно реализован Weisfeiler-Lehman Kernel и обучен классификатор на его основе."
   ]
  }
 ],
 "metadata": {
  "kernelspec": {
   "display_name": ".venv",
   "language": "python",
   "name": "python3"
  },
  "language_info": {
   "codemirror_mode": {
    "name": "ipython",
    "version": 3
   },
   "file_extension": ".py",
   "mimetype": "text/x-python",
   "name": "python",
   "nbconvert_exporter": "python",
   "pygments_lexer": "ipython3",
   "version": "3.12.5"
  }
 },
 "nbformat": 4,
 "nbformat_minor": 5
}
